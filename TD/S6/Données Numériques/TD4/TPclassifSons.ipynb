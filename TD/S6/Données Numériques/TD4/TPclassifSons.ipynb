{
 "cells": [
  {
   "cell_type": "markdown",
   "metadata": {},
   "source": [
    "# Polytech SI3 - Données numériques: classification de sons\n",
    "Diane Lingrand\n",
    "2022-2023\n"
   ]
  },
  {
   "cell_type": "code",
   "execution_count": 3,
   "metadata": {
    "ExecuteTime": {
     "end_time": "2023-03-23T22:16:07.485692Z",
     "start_time": "2023-03-23T22:16:03.287538Z"
    }
   },
   "outputs": [],
   "source": [
    "#chargement des librairies\n",
    "import matplotlib.pyplot as plt\n",
    "import numpy as np \n",
    "import librosa\n",
    "import librosa.display\n",
    "import IPython.display as ipd"
   ]
  },
  {
   "cell_type": "code",
   "execution_count": 4,
   "metadata": {
    "ExecuteTime": {
     "end_time": "2023-03-23T22:16:07.494870Z",
     "start_time": "2023-03-23T22:16:07.491649Z"
    }
   },
   "outputs": [],
   "source": [
    "import glob"
   ]
  },
  {
   "cell_type": "code",
   "execution_count": 5,
   "metadata": {
    "ExecuteTime": {
     "end_time": "2023-03-23T22:38:42.066807Z",
     "start_time": "2023-03-23T22:38:42.039520Z"
    }
   },
   "outputs": [
    {
     "name": "stdout",
     "output_type": "stream",
     "text": [
      "cat 1733\n",
      "dog 1746\n",
      "bird 1731\n"
     ]
    }
   ],
   "source": [
    "basedir=\"/home/tsukoyachi/Documents/Ecole/SI3/ComputerScience/TD/S6/Données Numériques/TD4/\"\n",
    "# à adapter \n",
    "#attention, sous windows, il faut changer en \"C:\\\\Users\\\\monNom\\\\monCoursPrefere\\\\\"\n",
    "classes = [\"cat\",\"dog\",\"bird\"] \n",
    "nbClasses = len(classes)\n",
    "\n",
    "for cl in classes:\n",
    "    listSons = glob.glob(basedir+cl+\"/*.wav\")\n",
    "    print(cl,len(listSons))"
   ]
  },
  {
   "cell_type": "markdown",
   "metadata": {},
   "source": [
    "## algorithme kNN"
   ]
  },
  {
   "cell_type": "code",
   "execution_count": 6,
   "metadata": {
    "ExecuteTime": {
     "end_time": "2023-03-23T21:52:01.607063Z",
     "start_time": "2023-03-23T21:52:01.600447Z"
    }
   },
   "outputs": [],
   "source": [
    "#knn algo\n",
    "def voteKnn(xtrain, ytrain, nKnn, newData):\n",
    "    \n",
    "    classWhenAmbiguity = 2\n",
    "\n",
    "    d = []\n",
    "    for PX in xtrain:\n",
    "        d.append(np.sqrt(np.power(PX[0] - newData[0], 2) + np.power(PX[1] - newData[1], 2) + np.power(PX[2] - newData[2], 2)))\n",
    "\n",
    "    r = np.argsort(d)\n",
    "\n",
    "    # nKNN smallest distances indices\n",
    "    nei1 = r[0:nKnn]\n",
    "\n",
    "    # nKNN closest data\n",
    "    Xn1 = []\n",
    "    yn1 = []\n",
    "    for ji in nei1:\n",
    "        Xn1.append(xtrain[ji])\n",
    "        yn1.append(ytrain[ji])\n",
    "\n",
    "    cl, co = np.unique(yn1, return_counts=True)\n",
    "    nbOfMC = np.count_nonzero(co == np.max(co))  # Permet de récupérer le nombre de classe qui ont le nombre d'occurrence max du tableau\n",
    "    if nbOfMC > 1:\n",
    "        classe1 = classWhenAmbiguity\n",
    "    else:\n",
    "        maxOccIndex1 = np.argmax(co)  # renvoie l'indice de l'occurrence la plus élevée\n",
    "        classe1 = cl[maxOccIndex1]  # on récupère la classe correspondant à cette occurrence la plus élevée, autrement dit on récupère la classe ayant le nombre d'occurrence le plus élevé, grâce à leur indice identique (dans les tableaux classes et counts, une classe à un indice précis va trouver son occurrence au même indice dans le tableau counts)\n",
    "    return classe1\n"
   ]
  },
  {
   "cell_type": "markdown",
   "metadata": {},
   "source": [
    "## Représentation des sons par 1 MFCC"
   ]
  },
  {
   "cell_type": "code",
   "execution_count": 7,
   "metadata": {
    "ExecuteTime": {
     "end_time": "2023-03-23T21:37:41.156053Z",
     "start_time": "2023-03-23T21:37:07.989109Z"
    }
   },
   "outputs": [],
   "source": [
    "# loading train dataset\n",
    "nb=200 # for each class\n",
    "i = 0\n",
    "clNumber = 0\n",
    "yTrain = []\n",
    "Xtrain = np.empty(shape=(nb*nbClasses, 13), dtype=float)\n",
    "for cl in classes:\n",
    "    listSons = glob.glob(basedir+cl+\"/*.wav\")\n",
    "    for s in listSons[:nb]:\n",
    "        (sig,rate) = librosa.load(s)\n",
    "        mfcc_feat = librosa.feature.mfcc(y=sig,sr=rate,n_mfcc=13, hop_length=len(sig)+1)\n",
    "        Xtrain[i] = mfcc_feat.reshape(13)\n",
    "        i += 1\n",
    "    yTrain += [clNumber]*nb\n",
    "    clNumber += 1\n",
    "\n",
    "yTrain = np.array(yTrain)"
   ]
  },
  {
   "cell_type": "code",
   "execution_count": 8,
   "metadata": {
    "ExecuteTime": {
     "end_time": "2023-03-23T21:38:16.792811Z",
     "start_time": "2023-03-23T21:37:41.217435Z"
    }
   },
   "outputs": [],
   "source": [
    "## loading test dataset\n",
    "i = 0\n",
    "clNumber = 0\n",
    "yTest = []\n",
    "Xtest = np.empty(shape=(nb*nbClasses, 13), dtype=float)\n",
    "for cl in classes:\n",
    "    listSons = glob.glob(basedir+cl+\"/*.wav\")\n",
    "    for s in listSons[-nb:]:\n",
    "    #print(\"###\",s,\"###\")\n",
    "        (sig,rate) = librosa.load(s)\n",
    "        mfcc_feat = librosa.feature.mfcc(y=sig,sr=rate,n_mfcc=13, hop_length=len(sig)+1)    \n",
    "        Xtest[i] = mfcc_feat.reshape(13)\n",
    "        i += 1\n",
    "    yTest += [clNumber]*nb\n",
    "    clNumber += 1\n",
    "\n",
    "yTest = np.array(yTest)"
   ]
  },
  {
   "cell_type": "markdown",
   "metadata": {},
   "source": [
    "## Représentation des sons par la moyenne des MFCCs (longueur standard)"
   ]
  },
  {
   "cell_type": "code",
   "execution_count": 9,
   "metadata": {
    "ExecuteTime": {
     "end_time": "2023-03-23T21:37:41.156053Z",
     "start_time": "2023-03-23T21:37:07.989109Z"
    }
   },
   "outputs": [],
   "source": [
    "# loading train dataset\n",
    "nb=200 # for each class\n",
    "i = 0\n",
    "clNumber = 0\n",
    "yTrain = []\n",
    "Xtrain = np.empty(shape=(nb*nbClasses, 13), dtype=float)\n",
    "for cl in classes:\n",
    "    listSons = glob.glob(basedir+cl+\"/*.wav\")\n",
    "    for s in listSons[:nb]:\n",
    "        (sig,rate) = librosa.load(s)\n",
    "        mfcc_feat = librosa.feature.mfcc(y=sig,sr=rate,n_mfcc=13)\n",
    "        Xtrain[i] = np.mean(mfcc_feat, axis=1)\n",
    "        i += 1\n",
    "    yTrain += [clNumber]*nb\n",
    "    clNumber += 1\n",
    "\n",
    "yTrain = np.array(yTrain)"
   ]
  },
  {
   "cell_type": "code",
   "execution_count": 10,
   "metadata": {
    "ExecuteTime": {
     "end_time": "2023-03-23T21:38:16.792811Z",
     "start_time": "2023-03-23T21:37:41.217435Z"
    }
   },
   "outputs": [],
   "source": [
    "## loading test dataset\n",
    "i = 0\n",
    "clNumber = 0\n",
    "yTest = []\n",
    "Xtest = np.empty(shape=(nb*nbClasses, 13), dtype=float)\n",
    "for cl in classes:\n",
    "    listSons = glob.glob(basedir+cl+\"/*.wav\")\n",
    "    for s in listSons[-nb:]:\n",
    "    #print(\"###\",s,\"###\")\n",
    "        (sig,rate) = librosa.load(s)\n",
    "        mfcc_feat = librosa.feature.mfcc(y=sig,sr=rate,n_mfcc=13)\n",
    "        Xtest[i] = np.mean(mfcc_feat, axis=1)\n",
    "        i += 1\n",
    "    yTest += [clNumber]*nb\n",
    "    clNumber += 1\n",
    "\n",
    "yTest = np.array(yTest)"
   ]
  },
  {
   "cell_type": "markdown",
   "metadata": {},
   "source": [
    "## Classification par kNN"
   ]
  },
  {
   "cell_type": "markdown",
   "metadata": {},
   "source": [
    "**Question 1**: Pour chaque représentation des fichiers sons, calculez les prédictions d'une classification par kNN. Pour cela, il faudra tester plusieurs valeurs de k."
   ]
  },
  {
   "cell_type": "code",
   "execution_count": 11,
   "metadata": {
    "ExecuteTime": {
     "end_time": "2023-03-23T21:52:01.137798Z",
     "start_time": "2023-03-23T21:52:01.134058Z"
    }
   },
   "outputs": [],
   "source": [
    "numberNN = 5"
   ]
  },
  {
   "cell_type": "code",
   "execution_count": 14,
   "metadata": {
    "ExecuteTime": {
     "end_time": "2023-03-23T22:07:51.689342Z",
     "start_time": "2023-03-23T22:07:51.545666Z"
    }
   },
   "outputs": [],
   "source": [
    "#predictions\n",
    "predTrain = [voteKnn(Xtrain,yTrain,numberNN,i) for i in Xtrain]\n",
    "predTest = [voteKnn(Xtest,yTest,numberNN,i) for i in Xtrain]"
   ]
  },
  {
   "cell_type": "markdown",
   "metadata": {
    "ExecuteTime": {
     "end_time": "2023-03-23T22:33:34.130488Z",
     "start_time": "2023-03-23T22:33:34.127318Z"
    }
   },
   "source": [
    "**Question 2**: Calculez les matrices de confusion, les métriques de précision 'accuracy' et de score F1 pour les données d'apprentissage et de test. Pour cela, écrire 3 fonctions: <ul> <li> une fonction qui affiche une matrice de confusion</li> <li>une fonction qui calcule la précision (accuracy)</li><li>une fonction qui calcule le score F1 d'une classe</li></ul>"
   ]
  },
  {
   "cell_type": "code",
   "execution_count": 60,
   "metadata": {
    "ExecuteTime": {
     "end_time": "2023-03-23T22:41:38.902332Z",
     "start_time": "2023-03-23T22:41:38.898928Z"
    }
   },
   "outputs": [],
   "source": [
    "def printConfusionMatrix(matrixContent) :\n",
    "    classesName = np.unique(matrixContent)\n",
    "    nbClasse = len(classesName)\n",
    "    res = np.zeros((nbClasse,nbClasse))\n",
    "    for i in range (0, nbClasse) :\n",
    "        for y in range (0, 200) :\n",
    "            res[i][matrixContent[y + 200*i]] += 1\n",
    "        print(\"For data of classe \"+str(i)+\" :\")\n",
    "        for z in range (0, nbClasse) :\n",
    "            print(str(res[i][z]) + \" element of classe \"+str(z))\n",
    "        print(\"-------------------------\")\n",
    "    return res\n",
    "\n",
    "def accuracy(confusionMatrix) :\n",
    "    nbClasse = np.shape(confusionMatrix)[0]\n",
    "    correct = 0\n",
    "    total = 0\n",
    "    for i in range (0,nbClasse) :\n",
    "        for y in range (0,nbClasse) :\n",
    "            if i == y :\n",
    "                correct += confusionMatrix[i][y]\n",
    "            total += confusionMatrix[i][y]\n",
    "    accuracy = correct/total\n",
    "    print(accuracy)\n",
    "    return accuracy\n",
    "\n",
    "def f1(confusionMatrix) :\n",
    "    nbClasse = np.shape(confusionMatrix)[0]\n",
    "    vp = 0\n",
    "    total = 0\n",
    "    for i in range (0,nbClasse) :\n",
    "        for y in range (0,nbClasse) :\n",
    "            if i == y :\n",
    "                vp += confusionMatrix[i][y]\n",
    "            total += confusionMatrix[i][y]"
   ]
  },
  {
   "cell_type": "markdown",
   "metadata": {},
   "source": [
    "**Question 3:** Affichez la courbe de la précision (accuracy) en fonction du k de kNN pour les données d'apprentissage et pour les données de test."
   ]
  },
  {
   "cell_type": "code",
   "execution_count": 63,
   "metadata": {
    "ExecuteTime": {
     "end_time": "2023-03-23T22:41:39.795746Z",
     "start_time": "2023-03-23T22:41:39.793601Z"
    }
   },
   "outputs": [
    {
     "ename": "ValueError",
     "evalue": "zero-size array to reduction operation maximum which has no identity",
     "output_type": "error",
     "traceback": [
      "\u001b[0;31m---------------------------------------------------------------------------\u001b[0m",
      "\u001b[0;31mValueError\u001b[0m                                Traceback (most recent call last)",
      "Cell \u001b[0;32mIn[63], line 3\u001b[0m\n\u001b[1;32m      1\u001b[0m res \u001b[38;5;241m=\u001b[39m []\n\u001b[1;32m      2\u001b[0m \u001b[38;5;28;01mfor\u001b[39;00m n \u001b[38;5;129;01min\u001b[39;00m \u001b[38;5;28mrange\u001b[39m (\u001b[38;5;241m0\u001b[39m,\u001b[38;5;241m50\u001b[39m) :\n\u001b[0;32m----> 3\u001b[0m     predTrain \u001b[38;5;241m=\u001b[39m [voteKnn(Xtrain,yTrain,n,i) \u001b[38;5;28;01mfor\u001b[39;00m i \u001b[38;5;129;01min\u001b[39;00m Xtrain]\n\u001b[1;32m      4\u001b[0m     predTest \u001b[38;5;241m=\u001b[39m [voteKnn(Xtest,yTest,n,i) \u001b[38;5;28;01mfor\u001b[39;00m i \u001b[38;5;129;01min\u001b[39;00m Xtrain]\n\u001b[1;32m      5\u001b[0m     confusionMatrix \u001b[38;5;241m=\u001b[39m printConfusionMatrix(predTest)\n",
      "Cell \u001b[0;32mIn[63], line 3\u001b[0m, in \u001b[0;36m<listcomp>\u001b[0;34m(.0)\u001b[0m\n\u001b[1;32m      1\u001b[0m res \u001b[38;5;241m=\u001b[39m []\n\u001b[1;32m      2\u001b[0m \u001b[38;5;28;01mfor\u001b[39;00m n \u001b[38;5;129;01min\u001b[39;00m \u001b[38;5;28mrange\u001b[39m (\u001b[38;5;241m0\u001b[39m,\u001b[38;5;241m50\u001b[39m) :\n\u001b[0;32m----> 3\u001b[0m     predTrain \u001b[38;5;241m=\u001b[39m [\u001b[43mvoteKnn\u001b[49m\u001b[43m(\u001b[49m\u001b[43mXtrain\u001b[49m\u001b[43m,\u001b[49m\u001b[43myTrain\u001b[49m\u001b[43m,\u001b[49m\u001b[43mn\u001b[49m\u001b[43m,\u001b[49m\u001b[43mi\u001b[49m\u001b[43m)\u001b[49m \u001b[38;5;28;01mfor\u001b[39;00m i \u001b[38;5;129;01min\u001b[39;00m Xtrain]\n\u001b[1;32m      4\u001b[0m     predTest \u001b[38;5;241m=\u001b[39m [voteKnn(Xtest,yTest,n,i) \u001b[38;5;28;01mfor\u001b[39;00m i \u001b[38;5;129;01min\u001b[39;00m Xtrain]\n\u001b[1;32m      5\u001b[0m     confusionMatrix \u001b[38;5;241m=\u001b[39m printConfusionMatrix(predTest)\n",
      "Cell \u001b[0;32mIn[6], line 23\u001b[0m, in \u001b[0;36mvoteKnn\u001b[0;34m(xtrain, ytrain, nKnn, newData)\u001b[0m\n\u001b[1;32m     20\u001b[0m     yn1\u001b[38;5;241m.\u001b[39mappend(ytrain[ji])\n\u001b[1;32m     22\u001b[0m cl, co \u001b[38;5;241m=\u001b[39m np\u001b[38;5;241m.\u001b[39munique(yn1, return_counts\u001b[38;5;241m=\u001b[39m\u001b[38;5;28;01mTrue\u001b[39;00m)\n\u001b[0;32m---> 23\u001b[0m nbOfMC \u001b[38;5;241m=\u001b[39m np\u001b[38;5;241m.\u001b[39mcount_nonzero(co \u001b[38;5;241m==\u001b[39m \u001b[43mnp\u001b[49m\u001b[38;5;241;43m.\u001b[39;49m\u001b[43mmax\u001b[49m\u001b[43m(\u001b[49m\u001b[43mco\u001b[49m\u001b[43m)\u001b[49m)  \u001b[38;5;66;03m# Permet de récupérer le nombre de classe qui ont le nombre d'occurrence max du tableau\u001b[39;00m\n\u001b[1;32m     24\u001b[0m \u001b[38;5;28;01mif\u001b[39;00m nbOfMC \u001b[38;5;241m>\u001b[39m \u001b[38;5;241m1\u001b[39m:\n\u001b[1;32m     25\u001b[0m     classe1 \u001b[38;5;241m=\u001b[39m classWhenAmbiguity\n",
      "File \u001b[0;32m<__array_function__ internals>:180\u001b[0m, in \u001b[0;36mamax\u001b[0;34m(*args, **kwargs)\u001b[0m\n",
      "File \u001b[0;32m~/.local/lib/python3.10/site-packages/numpy/core/fromnumeric.py:2793\u001b[0m, in \u001b[0;36mamax\u001b[0;34m(a, axis, out, keepdims, initial, where)\u001b[0m\n\u001b[1;32m   2677\u001b[0m \u001b[38;5;129m@array_function_dispatch\u001b[39m(_amax_dispatcher)\n\u001b[1;32m   2678\u001b[0m \u001b[38;5;28;01mdef\u001b[39;00m \u001b[38;5;21mamax\u001b[39m(a, axis\u001b[38;5;241m=\u001b[39m\u001b[38;5;28;01mNone\u001b[39;00m, out\u001b[38;5;241m=\u001b[39m\u001b[38;5;28;01mNone\u001b[39;00m, keepdims\u001b[38;5;241m=\u001b[39mnp\u001b[38;5;241m.\u001b[39m_NoValue, initial\u001b[38;5;241m=\u001b[39mnp\u001b[38;5;241m.\u001b[39m_NoValue,\n\u001b[1;32m   2679\u001b[0m          where\u001b[38;5;241m=\u001b[39mnp\u001b[38;5;241m.\u001b[39m_NoValue):\n\u001b[1;32m   2680\u001b[0m \u001b[38;5;250m    \u001b[39m\u001b[38;5;124;03m\"\"\"\u001b[39;00m\n\u001b[1;32m   2681\u001b[0m \u001b[38;5;124;03m    Return the maximum of an array or maximum along an axis.\u001b[39;00m\n\u001b[1;32m   2682\u001b[0m \n\u001b[0;32m   (...)\u001b[0m\n\u001b[1;32m   2791\u001b[0m \u001b[38;5;124;03m    5\u001b[39;00m\n\u001b[1;32m   2792\u001b[0m \u001b[38;5;124;03m    \"\"\"\u001b[39;00m\n\u001b[0;32m-> 2793\u001b[0m     \u001b[38;5;28;01mreturn\u001b[39;00m \u001b[43m_wrapreduction\u001b[49m\u001b[43m(\u001b[49m\u001b[43ma\u001b[49m\u001b[43m,\u001b[49m\u001b[43m \u001b[49m\u001b[43mnp\u001b[49m\u001b[38;5;241;43m.\u001b[39;49m\u001b[43mmaximum\u001b[49m\u001b[43m,\u001b[49m\u001b[43m \u001b[49m\u001b[38;5;124;43m'\u001b[39;49m\u001b[38;5;124;43mmax\u001b[39;49m\u001b[38;5;124;43m'\u001b[39;49m\u001b[43m,\u001b[49m\u001b[43m \u001b[49m\u001b[43maxis\u001b[49m\u001b[43m,\u001b[49m\u001b[43m \u001b[49m\u001b[38;5;28;43;01mNone\u001b[39;49;00m\u001b[43m,\u001b[49m\u001b[43m \u001b[49m\u001b[43mout\u001b[49m\u001b[43m,\u001b[49m\n\u001b[1;32m   2794\u001b[0m \u001b[43m                          \u001b[49m\u001b[43mkeepdims\u001b[49m\u001b[38;5;241;43m=\u001b[39;49m\u001b[43mkeepdims\u001b[49m\u001b[43m,\u001b[49m\u001b[43m \u001b[49m\u001b[43minitial\u001b[49m\u001b[38;5;241;43m=\u001b[39;49m\u001b[43minitial\u001b[49m\u001b[43m,\u001b[49m\u001b[43m \u001b[49m\u001b[43mwhere\u001b[49m\u001b[38;5;241;43m=\u001b[39;49m\u001b[43mwhere\u001b[49m\u001b[43m)\u001b[49m\n",
      "File \u001b[0;32m~/.local/lib/python3.10/site-packages/numpy/core/fromnumeric.py:86\u001b[0m, in \u001b[0;36m_wrapreduction\u001b[0;34m(obj, ufunc, method, axis, dtype, out, **kwargs)\u001b[0m\n\u001b[1;32m     83\u001b[0m         \u001b[38;5;28;01melse\u001b[39;00m:\n\u001b[1;32m     84\u001b[0m             \u001b[38;5;28;01mreturn\u001b[39;00m reduction(axis\u001b[38;5;241m=\u001b[39maxis, out\u001b[38;5;241m=\u001b[39mout, \u001b[38;5;241m*\u001b[39m\u001b[38;5;241m*\u001b[39mpasskwargs)\n\u001b[0;32m---> 86\u001b[0m \u001b[38;5;28;01mreturn\u001b[39;00m \u001b[43mufunc\u001b[49m\u001b[38;5;241;43m.\u001b[39;49m\u001b[43mreduce\u001b[49m\u001b[43m(\u001b[49m\u001b[43mobj\u001b[49m\u001b[43m,\u001b[49m\u001b[43m \u001b[49m\u001b[43maxis\u001b[49m\u001b[43m,\u001b[49m\u001b[43m \u001b[49m\u001b[43mdtype\u001b[49m\u001b[43m,\u001b[49m\u001b[43m \u001b[49m\u001b[43mout\u001b[49m\u001b[43m,\u001b[49m\u001b[43m \u001b[49m\u001b[38;5;241;43m*\u001b[39;49m\u001b[38;5;241;43m*\u001b[39;49m\u001b[43mpasskwargs\u001b[49m\u001b[43m)\u001b[49m\n",
      "\u001b[0;31mValueError\u001b[0m: zero-size array to reduction operation maximum which has no identity"
     ]
    }
   ],
   "source": [
    "res = []\n",
    "for n in range (0,50) :\n",
    "    predTrain = [voteKnn(Xtrain,yTrain,n,i) for i in Xtrain]\n",
    "    predTest = [voteKnn(Xtest,yTest,n,i) for i in Xtrain]\n",
    "    confusionMatrix = printConfusionMatrix(predTest)\n",
    "    accuracy = accuracy(confusionMatrix)\n",
    "    res.append(accuracy)\n",
    "plt.plot(res,n)"
   ]
  },
  {
   "cell_type": "markdown",
   "metadata": {},
   "source": [
    "**Question 4:** Parmi les 2 représentations proposées, laquelle vous parait la meilleure?"
   ]
  },
  {
   "cell_type": "code",
   "execution_count": null,
   "metadata": {},
   "outputs": [],
   "source": [
    "#ici"
   ]
  }
 ],
 "metadata": {
  "hide_input": false,
  "kernelspec": {
   "display_name": "Python 3 (ipykernel)",
   "language": "python",
   "name": "python3"
  },
  "language_info": {
   "codemirror_mode": {
    "name": "ipython",
    "version": 3
   },
   "file_extension": ".py",
   "mimetype": "text/x-python",
   "name": "python",
   "nbconvert_exporter": "python",
   "pygments_lexer": "ipython3",
   "version": "3.10.6"
  },
  "latex_envs": {
   "LaTeX_envs_menu_present": true,
   "autoclose": false,
   "autocomplete": true,
   "bibliofile": "biblio.bib",
   "cite_by": "apalike",
   "current_citInitial": 1,
   "eqLabelWithNumbers": true,
   "eqNumInitial": 1,
   "hotkeys": {
    "equation": "Ctrl-E",
    "itemize": "Ctrl-I"
   },
   "labels_anchors": false,
   "latex_user_defs": false,
   "report_style_numbering": false,
   "user_envs_cfg": false
  },
  "varInspector": {
   "cols": {
    "lenName": 16,
    "lenType": 16,
    "lenVar": 40
   },
   "kernels_config": {
    "python": {
     "delete_cmd_postfix": "",
     "delete_cmd_prefix": "del ",
     "library": "var_list.py",
     "varRefreshCmd": "print(var_dic_list())"
    },
    "r": {
     "delete_cmd_postfix": ") ",
     "delete_cmd_prefix": "rm(",
     "library": "var_list.r",
     "varRefreshCmd": "cat(var_dic_list()) "
    }
   },
   "types_to_exclude": [
    "module",
    "function",
    "builtin_function_or_method",
    "instance",
    "_Feature"
   ],
   "window_display": false
  }
 },
 "nbformat": 4,
 "nbformat_minor": 4
}
