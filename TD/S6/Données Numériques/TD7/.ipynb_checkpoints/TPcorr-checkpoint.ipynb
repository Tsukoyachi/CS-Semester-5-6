{
 "cells": [
  {
   "cell_type": "markdown",
   "metadata": {},
   "source": [
    "# TP images: corrélation et recherche de motif\n",
    "## Données numériques - 2022-23\n",
    "### Diane Lingrand (Diane.Lingrand@univ-cotedazur.fr)"
   ]
  },
  {
   "cell_type": "code",
   "execution_count": 1,
   "metadata": {},
   "outputs": [],
   "source": [
    "from skimage import io\n",
    "from skimage import data\n",
    "from skimage import transform\n",
    "from skimage.color import rgb2gray\n",
    "import numpy as np\n",
    "from matplotlib import pyplot as plt\n",
    "from matplotlib.patches import Circle\n",
    "import math"
   ]
  },
  {
   "cell_type": "code",
   "execution_count": 2,
   "metadata": {},
   "outputs": [],
   "source": [
    "%matplotlib inline"
   ]
  },
  {
   "cell_type": "markdown",
   "metadata": {},
   "source": [
    "## Cross Correlation"
   ]
  },
  {
   "cell_type": "code",
   "execution_count": 3,
   "metadata": {},
   "outputs": [],
   "source": [
    "#voici les imagettes utilisées dans les slides\n",
    "imageTest = np.array([[4,5,6,7,8],[4,5,8,9,10],[40,50,80,90,100],[43,48,88,92,5]])\n",
    "motifTest = np.array([[4,5,6],[4,5,8],[40,50,80]])"
   ]
  },
  {
   "cell_type": "code",
   "execution_count": 4,
   "metadata": {},
   "outputs": [
    {
     "name": "stdout",
     "output_type": "stream",
     "text": [
      "[[  4   5   6   7   8]\n",
      " [  4   5   8   9  10]\n",
      " [ 40  50  80  90 100]\n",
      " [ 43  48  88  92   5]]\n",
      "[[ 4  5  6]\n",
      " [ 4  5  8]\n",
      " [40 50 80]]\n"
     ]
    },
    {
     "data": {
      "text/plain": [
       "<matplotlib.image.AxesImage at 0x7f85da0213c0>"
      ]
     },
     "execution_count": 4,
     "metadata": {},
     "output_type": "execute_result"
    },
    {
     "data": {
      "image/png": "[encoded data removed]",
      "text/plain": [
       "<Figure size 480x480 with 1 Axes>"
      ]
     },
     "metadata": {},
     "output_type": "display_data"
    },
    {
     "data": {
      "image/png": "[encoded data removed]",
      "text/plain": [
       "<Figure size 600x480 with 1 Axes>"
      ]
     },
     "metadata": {},
     "output_type": "display_data"
    }
   ],
   "source": [
    "print(imageTest)\n",
    "print(motifTest)\n",
    "plt.matshow(motifTest)\n",
    "plt.matshow(imageTest)"
   ]
  },
  {
   "cell_type": "markdown",
   "metadata": {},
   "source": [
    "**Question 1:** Ecrire le code de la fonction *correlationWithoutNorm* qui prend en entrée 2 tableaux 2d de valeurs: une image (en niveau de gris) et un motif et retourne l'image de correlation sans aucune normalisation."
   ]
  },
  {
   "cell_type": "code",
   "execution_count": null,
   "metadata": {},
   "outputs": [],
   "source": [
    "def crossCorrelationWithoutNorm(image, motif):\n",
    "    \n",
    "    return res\n"
   ]
  },
  {
   "cell_type": "markdown",
   "metadata": {},
   "source": [
    "**Question 2:** Ecrire le code de la fonction *correlation* qui prend en entrée 2 tableaux 2d de valeurs: une image (en niveau de gris) et un motif et retourne l'image de correlation avec les normalisations vues en cours. Il pourra s'agir d'une implémentation naïve."
   ]
  },
  {
   "cell_type": "code",
   "execution_count": null,
   "metadata": {},
   "outputs": [],
   "source": [
    "def crossCorrelation(im, mo):\n",
    "    hmo, wmo = mo.shape[:2]\n",
    "    hmo2, wmo2 = hmo//2, wmo//2 # assuming mo of odd width and height\n",
    "    him, wim = im.shape[:2]\n",
    "    res = np.zeros(im.shape)\n",
    "    mo = mo-np.mean(mo)\n",
    "    stdMo = math.sqrt(np.mean(mo*mo))\n",
    "    if stdMo == 0:\n",
    "        return res\n",
    "    mo /= stdMo\n",
    "    for j in range(wmo2, wim-wmo2):\n",
    "        for i in range(hmo2, him-hmo2):\n",
    "    #mean of roi\n",
    "meanRoi = 0\n",
    "for l in range(wmo):\n",
    "for k in range(hmo):\n",
    "meanRoi += im[i+k-hmo2][j+l-wmo2]\n",
    "meanRoi /= hmo*wmo\n",
    "# standard dev of roi\n",
    "stdRoi = 0\n",
    "for l in range(wmo):\n",
    "for k in range(hmo):\n",
    "stdRoi += (im[i+k-hmo2][j+l-wmo2]-meanRoi)**2\n",
    "stdRoi = math.sqrt(stdRoi/hmo/wmo)\n",
    "if stdRoi == 0:\n",
    "res[i][j] = 0\n",
    "#cross correlation\n",
    "else:\n",
    "for l in range(wmo):\n",
    "for k in range(hmo):\n",
    "res[i][j] += (im[i+k-hmo2][j+l-wmo2]-meanRoi)*mo[k][l]\n",
    "res[i][j] /= stdRoi\n",
    "res /= hmo*wmo\n",
    "return res\n"
   ]
  },
  {
   "cell_type": "markdown",
   "metadata": {},
   "source": [
    "**Question 3:** Tester la fonction précédente. Affichez les résultats. Améliorer éventuellement l'implémentation pour accélerer les calculs. Il sera possible et peut-être nécessaire de revenir à cette question plus tard (question 5)."
   ]
  },
  {
   "cell_type": "code",
   "execution_count": null,
   "metadata": {},
   "outputs": [],
   "source": [
    "def crossCorrelation2(im, mo):\n",
    "\n",
    "    return res\n"
   ]
  },
  {
   "cell_type": "code",
   "execution_count": null,
   "metadata": {},
   "outputs": [],
   "source": [
    "# pour tester"
   ]
  },
  {
   "cell_type": "markdown",
   "metadata": {},
   "source": [
    "## logo dans image"
   ]
  },
  {
   "cell_type": "markdown",
   "metadata": {},
   "source": [
    "**Question 4:** Choisissez une image qui comporte plusieurs instances d'un motif et conservez l'image et une copie du motif. Modifiez la cellule suivante en conséquence. Soit les images sont en niveaux de gris, soit il faudra les convertir."
   ]
  },
  {
   "cell_type": "code",
   "execution_count": null,
   "metadata": {},
   "outputs": [],
   "source": [
    "img = io.imread('/home/lingrand/Ens/donneesNum/Cours10-corr/text.png')\n",
    "logo = io.imread('/home/lingrand/Ens/donneesNum/Cours10-corr/letter-a.png')\n",
    "#img = io.imread('/home/lingrand/Ens/donneesNum/Cours10-corr/plaqadmissions.jpg')\n",
    "#logo = io.imread('/home/lingrand/Ens/donneesNum/Cours10-corr/plaqadmissions-logo.png')"
   ]
  },
  {
   "cell_type": "code",
   "execution_count": null,
   "metadata": {},
   "outputs": [],
   "source": [
    "# conversion en niveaux de gris\n",
    "img = rgb2gray(img[:,:,0:3])\n",
    "logo = rgb2gray(logo[:,:,0:3])"
   ]
  },
  {
   "cell_type": "code",
   "execution_count": null,
   "metadata": {},
   "outputs": [],
   "source": [
    "plt.imshow(img, cmap=plt.cm.gray)"
   ]
  },
  {
   "cell_type": "code",
   "execution_count": null,
   "metadata": {},
   "outputs": [],
   "source": [
    "plt.imshow(logo, cmap=plt.cm.gray)"
   ]
  },
  {
   "cell_type": "markdown",
   "metadata": {},
   "source": [
    "**Question 5:** Calculez la carte de corrélation et affichez la selon une carte de couleurs chaudes. Si les calculs sont trop longs, revenir à la question 3."
   ]
  },
  {
   "cell_type": "code",
   "execution_count": null,
   "metadata": {},
   "outputs": [],
   "source": [
    "# pour vous"
   ]
  },
  {
   "cell_type": "markdown",
   "metadata": {},
   "source": [
    "**Question 6:** Quel est le max? Où est-il situé?"
   ]
  },
  {
   "cell_type": "code",
   "execution_count": null,
   "metadata": {},
   "outputs": [],
   "source": [
    "# pour vous"
   ]
  },
  {
   "cell_type": "markdown",
   "metadata": {},
   "source": [
    "**Question 7:** Où sont les valeurs de forte corrélation? Il faut déterminer un seuil: 0.5? 0.8? 0.9? Ensuite, différentes possibilités de visualisation sont possibles:\n",
    "- afficher la carte de corrélation seuillée en transparence sur l'image originale ou bien \n",
    "- entourer les zones concernées sur la carte de corrélation ou encore \n",
    "- sur l'image originale."
   ]
  },
  {
   "cell_type": "code",
   "execution_count": null,
   "metadata": {},
   "outputs": [],
   "source": [
    "#pour vous"
   ]
  }
 ],
 "metadata": {
  "hide_input": false,
  "kernelspec": {
   "display_name": "Python 3 (ipykernel)",
   "language": "python",
   "name": "python3"
  },
  "language_info": {
   "codemirror_mode": {
    "name": "ipython",
    "version": 3
   },
   "file_extension": ".py",
   "mimetype": "text/x-python",
   "name": "python",
   "nbconvert_exporter": "python",
   "pygments_lexer": "ipython3",
   "version": "3.10.6"
  },
  "latex_envs": {
   "LaTeX_envs_menu_present": true,
   "autoclose": false,
   "autocomplete": true,
   "bibliofile": "biblio.bib",
   "cite_by": "apalike",
   "current_citInitial": 1,
   "eqLabelWithNumbers": true,
   "eqNumInitial": 1,
   "hotkeys": {
    "equation": "Ctrl-E",
    "itemize": "Ctrl-I"
   },
   "labels_anchors": false,
   "latex_user_defs": false,
   "report_style_numbering": false,
   "user_envs_cfg": false
  },
  "varInspector": {
   "cols": {
    "lenName": 16,
    "lenType": 16,
    "lenVar": 40
   },
   "kernels_config": {
    "python": {
     "delete_cmd_postfix": "",
     "delete_cmd_prefix": "del ",
     "library": "var_list.py",
     "varRefreshCmd": "print(var_dic_list())"
    },
    "r": {
     "delete_cmd_postfix": ") ",
     "delete_cmd_prefix": "rm(",
     "library": "var_list.r",
     "varRefreshCmd": "cat(var_dic_list()) "
    }
   },
   "types_to_exclude": [
    "module",
    "function",
    "builtin_function_or_method",
    "instance",
    "_Feature"
   ],
   "window_display": false
  }
 },
 "nbformat": 4,
 "nbformat_minor": 4
}
