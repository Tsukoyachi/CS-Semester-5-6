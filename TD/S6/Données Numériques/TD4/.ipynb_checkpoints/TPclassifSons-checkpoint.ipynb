{
 "cells": [
  {
   "cell_type": "markdown",
   "metadata": {},
   "source": [
    "# Polytech SI3 - Données numériques: classification de sons\n",
    "Diane Lingrand\n",
    "2022-2023\n"
   ]
  },
  {
   "cell_type": "code",
   "execution_count": 4,
   "metadata": {
    "ExecuteTime": {
     "end_time": "2023-03-23T22:16:07.485692Z",
     "start_time": "2023-03-23T22:16:03.287538Z"
    }
   },
   "outputs": [],
   "source": [
    "#chargement des librairies\n",
    "import matplotlib.pyplot as plt\n",
    "import numpy as np \n",
    "import librosa\n",
    "import librosa.display\n",
    "import IPython.display as ipd"
   ]
  },
  {
   "cell_type": "code",
   "execution_count": 5,
   "metadata": {
    "ExecuteTime": {
     "end_time": "2023-03-23T22:16:07.494870Z",
     "start_time": "2023-03-23T22:16:07.491649Z"
    }
   },
   "outputs": [],
   "source": [
    "import glob"
   ]
  },
  {
   "cell_type": "code",
   "execution_count": 6,
   "metadata": {
    "ExecuteTime": {
     "end_time": "2023-03-23T22:38:42.066807Z",
     "start_time": "2023-03-23T22:38:42.039520Z"
    }
   },
   "outputs": [
    {
     "name": "stdout",
     "output_type": "stream",
     "text": [
      "cat 1733\n",
      "dog 1746\n",
      "bird 1731\n"
     ]
    }
   ],
   "source": [
    "basedir=\"/home/tsukoyachi/Documents/Ecole/SI3/ComputerScience/TD/S6/Données Numériques/TD4/\"\n",
    "# à adapter \n",
    "#attention, sous windows, il faut changer en \"C:\\\\Users\\\\monNom\\\\monCoursPrefere\\\\\"\n",
    "classes = [\"cat\",\"dog\",\"bird\"] \n",
    "nbClasses = len(classes)\n",
    "\n",
    "for cl in classes:\n",
    "    listSons = glob.glob(basedir+cl+\"/*.wav\")\n",
    "    print(cl,len(listSons))"
   ]
  },
  {
   "cell_type": "markdown",
   "metadata": {},
   "source": [
    "## algorithme kNN"
   ]
  },
  {
   "cell_type": "code",
   "execution_count": 7,
   "metadata": {
    "ExecuteTime": {
     "end_time": "2023-03-23T21:52:01.607063Z",
     "start_time": "2023-03-23T21:52:01.600447Z"
    }
   },
   "outputs": [],
   "source": [
    "#knn algo\n",
    "def voteKnn(xtrain, ytrain, nKnn, newData):\n",
    "    \n",
    "    classWhenAmbiguity = 2\n",
    "\n",
    "    d = []\n",
    "    for PX in xtrain:\n",
    "        d.append(np.sqrt(np.power(PX[0] - newData[0], 2) + np.power(PX[1] - newData[1], 2) + np.power(PX[2] - newData[2], 2)))\n",
    "\n",
    "    r = np.argsort(d)\n",
    "\n",
    "    # nKNN smallest distances indices\n",
    "    nei1 = r[0:nKnn]\n",
    "\n",
    "    # nKNN closest data\n",
    "    Xn1 = []\n",
    "    yn1 = []\n",
    "    for ji in nei1:\n",
    "        Xn1.append(xtrain[ji])\n",
    "        yn1.append(ytrain[ji])\n",
    "\n",
    "    cl, co = np.unique(yn1, return_counts=True)\n",
    "    nbOfMC = np.count_nonzero(co == np.max(co))  # Permet de récupérer le nombre de classe qui ont le nombre d'occurrence max du tableau\n",
    "    if nbOfMC > 1:\n",
    "        classe1 = classWhenAmbiguity\n",
    "    else:\n",
    "        maxOccIndex1 = np.argmax(co)  # renvoie l'indice de l'occurrence la plus élevée\n",
    "        classe1 = cl[maxOccIndex1]  # on récupère la classe correspondant à cette occurrence la plus élevée, autrement dit on récupère la classe ayant le nombre d'occurrence le plus élevé, grâce à leur indice identique (dans les tableaux classes et counts, une classe à un indice précis va trouver son occurrence au même indice dans le tableau counts)\n",
    "    return classe1\n"
   ]
  },
  {
   "cell_type": "markdown",
   "metadata": {},
   "source": [
    "## Représentation des sons par 1 MFCC"
   ]
  },
  {
   "cell_type": "code",
   "execution_count": 8,
   "metadata": {
    "ExecuteTime": {
     "end_time": "2023-03-23T21:37:41.156053Z",
     "start_time": "2023-03-23T21:37:07.989109Z"
    }
   },
   "outputs": [],
   "source": [
    "# loading train dataset\n",
    "nb=200 # for each class\n",
    "i = 0\n",
    "clNumber = 0\n",
    "yTrain = []\n",
    "Xtrain = np.empty(shape=(nb*nbClasses, 13), dtype=float)\n",
    "for cl in classes:\n",
    "    listSons = glob.glob(basedir+cl+\"/*.wav\")\n",
    "    for s in listSons[:nb]:\n",
    "        (sig,rate) = librosa.load(s)\n",
    "        mfcc_feat = librosa.feature.mfcc(y=sig,sr=rate,n_mfcc=13, hop_length=len(sig)+1)\n",
    "        Xtrain[i] = mfcc_feat.reshape(13)\n",
    "        i += 1\n",
    "    yTrain += [clNumber]*nb\n",
    "    clNumber += 1\n",
    "\n",
    "yTrain = np.array(yTrain)"
   ]
  },
  {
   "cell_type": "code",
   "execution_count": 9,
   "metadata": {
    "ExecuteTime": {
     "end_time": "2023-03-23T21:38:16.792811Z",
     "start_time": "2023-03-23T21:37:41.217435Z"
    }
   },
   "outputs": [],
   "source": [
    "## loading test dataset\n",
    "i = 0\n",
    "clNumber = 0\n",
    "yTest = []\n",
    "Xtest = np.empty(shape=(nb*nbClasses, 13), dtype=float)\n",
    "for cl in classes:\n",
    "    listSons = glob.glob(basedir+cl+\"/*.wav\")\n",
    "    for s in listSons[-nb:]:\n",
    "    #print(\"###\",s,\"###\")\n",
    "        (sig,rate) = librosa.load(s)\n",
    "        mfcc_feat = librosa.feature.mfcc(y=sig,sr=rate,n_mfcc=13, hop_length=len(sig)+1)    \n",
    "        Xtest[i] = mfcc_feat.reshape(13)\n",
    "        i += 1\n",
    "    yTest += [clNumber]*nb\n",
    "    clNumber += 1\n",
    "\n",
    "yTest = np.array(yTest)"
   ]
  },
  {
   "cell_type": "markdown",
   "metadata": {},
   "source": [
    "## Représentation des sons par la moyenne des MFCCs (longueur standard)"
   ]
  },
  {
   "cell_type": "code",
   "execution_count": 10,
   "metadata": {
    "ExecuteTime": {
     "end_time": "2023-03-23T21:37:41.156053Z",
     "start_time": "2023-03-23T21:37:07.989109Z"
    }
   },
   "outputs": [],
   "source": [
    "# loading train dataset\n",
    "nb=200 # for each class\n",
    "i = 0\n",
    "clNumber = 0\n",
    "yTrain = []\n",
    "Xtrain = np.empty(shape=(nb*nbClasses, 13), dtype=float)\n",
    "for cl in classes:\n",
    "    listSons = glob.glob(basedir+cl+\"/*.wav\")\n",
    "    for s in listSons[:nb]:\n",
    "        (sig,rate) = librosa.load(s)\n",
    "        mfcc_feat = librosa.feature.mfcc(y=sig,sr=rate,n_mfcc=13)\n",
    "        Xtrain[i] = np.mean(mfcc_feat, axis=1)\n",
    "        i += 1\n",
    "    yTrain += [clNumber]*nb\n",
    "    clNumber += 1\n",
    "\n",
    "yTrain = np.array(yTrain)"
   ]
  },
  {
   "cell_type": "code",
   "execution_count": 11,
   "metadata": {
    "ExecuteTime": {
     "end_time": "2023-03-23T21:38:16.792811Z",
     "start_time": "2023-03-23T21:37:41.217435Z"
    }
   },
   "outputs": [],
   "source": [
    "## loading test dataset\n",
    "i = 0\n",
    "clNumber = 0\n",
    "yTest = []\n",
    "Xtest = np.empty(shape=(nb*nbClasses, 13), dtype=float)\n",
    "for cl in classes:\n",
    "    listSons = glob.glob(basedir+cl+\"/*.wav\")\n",
    "    for s in listSons[-nb:]:\n",
    "    #print(\"###\",s,\"###\")\n",
    "        (sig,rate) = librosa.load(s)\n",
    "        mfcc_feat = librosa.feature.mfcc(y=sig,sr=rate,n_mfcc=13)\n",
    "        Xtest[i] = np.mean(mfcc_feat, axis=1)\n",
    "        i += 1\n",
    "    yTest += [clNumber]*nb\n",
    "    clNumber += 1\n",
    "\n",
    "yTest = np.array(yTest)"
   ]
  },
  {
   "cell_type": "markdown",
   "metadata": {},
   "source": [
    "## Classification par kNN"
   ]
  },
  {
   "cell_type": "markdown",
   "metadata": {},
   "source": [
    "**Question 1**: Pour chaque représentation des fichiers sons, calculez les prédictions d'une classification par kNN. Pour cela, il faudra tester plusieurs valeurs de k."
   ]
  },
  {
   "cell_type": "code",
   "execution_count": 12,
   "metadata": {
    "ExecuteTime": {
     "end_time": "2023-03-23T21:52:01.137798Z",
     "start_time": "2023-03-23T21:52:01.134058Z"
    }
   },
   "outputs": [],
   "source": [
    "numberNN = 5"
   ]
  },
  {
   "cell_type": "code",
   "execution_count": 13,
   "metadata": {
    "ExecuteTime": {
     "end_time": "2023-03-23T22:07:51.689342Z",
     "start_time": "2023-03-23T22:07:51.545666Z"
    }
   },
   "outputs": [],
   "source": [
    "#predictions\n",
    "predTrain = [voteKnn(Xtrain,yTrain,numberNN,i) for i in Xtrain]\n",
    "predTest = [voteKnn(Xtest,yTest,numberNN,i) for i in Xtrain]"
   ]
  },
  {
   "cell_type": "markdown",
   "metadata": {
    "ExecuteTime": {
     "end_time": "2023-03-23T22:33:34.130488Z",
     "start_time": "2023-03-23T22:33:34.127318Z"
    }
   },
   "source": [
    "**Question 2**: Calculez les matrices de confusion, les métriques de précision 'accuracy' et de score F1 pour les données d'apprentissage et de test. Pour cela, écrire 3 fonctions: <ul> <li> une fonction qui affiche une matrice de confusion</li> <li>une fonction qui calcule la précision (accuracy)</li><li>une fonction qui calcule le score F1 d'une classe</li></ul>"
   ]
  },
  {
   "cell_type": "code",
   "execution_count": 25,
   "metadata": {
    "ExecuteTime": {
     "end_time": "2023-03-23T22:41:38.902332Z",
     "start_time": "2023-03-23T22:41:38.898928Z"
    }
   },
   "outputs": [],
   "source": [
    "def computeConfusionMatrix(predData,Ydata) :\n",
    "    if len(Ydata) != len(predData): exit(1)\n",
    "    classes = np.unique(Ydata)\n",
    "    nb_classes = len(classes)\n",
    "    matrix = [[0 for i2 in range(nb_classes)] for i3 in range(nb_classes)] # feat Nicolas Zanin\n",
    "    for c in classes:\n",
    "        for d, c2 in zip(Ydata, range(0, len(Ydata))):\n",
    "            if d == c:\n",
    "                matrix[c][predData[c2]] += 1\n",
    "    return matrix\n",
    "\n",
    "def printConfusionMatrix(matrixContent,Ytrain) :\n",
    "    res = computeConfusionMatrix(matrixContent,Ytrain)\n",
    "    print(res)\n",
    "\n",
    "\n",
    "def accuracy(matrixContent,Ytrain) :\n",
    "    matrix = computeConfusionMatrix(matrixContent,Ytrain)\n",
    "    classesName = np.unique(matrixContent)\n",
    "    nbClasse = len(classesName)\n",
    "    fp = 0\n",
    "    fn = 0\n",
    "    vp = 0\n",
    "    vn = 0\n",
    "    for classe in range (0,nbClasse) :\n",
    "        for x in range (0, nbClasse) :\n",
    "            for y in range (0, nbClasse) :\n",
    "                tmp = matrix[x][y]\n",
    "                if(classe == x) :\n",
    "                    if (x == y) :\n",
    "                        vp += tmp\n",
    "                    else :\n",
    "                        fn += tmp\n",
    "                else :\n",
    "                    if(classe == y) :\n",
    "                        fp += tmp\n",
    "                    else :\n",
    "                        vn += tmp\n",
    "    return (vp+vn)/(fp+fn+vp+vn)\n",
    "\n",
    "def f1(matrixContent, classe,Ytrain) :\n",
    "    classesName = np.unique(matrixContent)\n",
    "    nbClasse = len(classesName)\n",
    "    if(classe >= nbClasse) :\n",
    "        return 0\n",
    "    matrix = computeConfusionMatrix(matrixContent,Ytrain)\n",
    "    fp = 0\n",
    "    fn = 0\n",
    "    vp = 0\n",
    "    vn = 0\n",
    "    for x in range(0, nbClasse) :\n",
    "        for y in range (0, nbClasse ) :\n",
    "            tmp = matrix[x][y]\n",
    "            if(classe == x) :\n",
    "                if (x == y) :\n",
    "                    vp += tmp\n",
    "                else :\n",
    "                    fn += tmp\n",
    "            else :\n",
    "                if(classe == y) :\n",
    "                    fp += tmp\n",
    "                else :\n",
    "                    vn += tmp\n",
    "    return (2*vp)/(2*vp + fp + fn)"
   ]
  },
  {
   "cell_type": "markdown",
   "metadata": {},
   "source": [
    "**Question 3:** Affichez la courbe de la précision (accuracy) en fonction du k de kNN pour les données d'apprentissage et pour les données de test."
   ]
  },
  {
   "cell_type": "code",
   "execution_count": 26,
   "metadata": {
    "ExecuteTime": {
     "end_time": "2023-03-23T22:41:39.795746Z",
     "start_time": "2023-03-23T22:41:39.793601Z"
    },
    "scrolled": false
   },
   "outputs": [
    {
     "data": {
      "text/plain": [
       "<matplotlib.legend.Legend at 0x7fba9ef5c730>"
      ]
     },
     "execution_count": 26,
     "metadata": {},
     "output_type": "execute_result"
    },
    {
     "data": {
      "image/png": "[encoded data removed]",
      "text/plain": [
       "<Figure size 640x480 with 1 Axes>"
      ]
     },
     "metadata": {},
     "output_type": "display_data"
    }
   ],
   "source": [
    "res = np.zeros(50)\n",
    "train = np.zeros(50)\n",
    "for y in range(1,51) :\n",
    "    predTrain = [voteKnn(Xtrain,yTrain,y,i) for i in Xtrain]\n",
    "    predTest = [voteKnn(Xtest,yTest,y,i) for i in Xtrain]\n",
    "    res[y-1] = accuracy(predTest,yTest)\n",
    "    train[y-1] = accuracy(predTrain,yTrain)\n",
    "plt.plot(np.linspace(1,50,50),res)\n",
    "plt.plot(np.linspace(1,50,50),train,color='red')\n",
    "plt.legend([\"Test\",\"Train\"], loc =\"lower right\")"
   ]
  },
  {
   "cell_type": "markdown",
   "metadata": {},
   "source": [
    "**Question 4:** Parmi les 2 représentations proposées, laquelle vous parait la meilleure?"
   ]
  },
  {
   "cell_type": "markdown",
   "metadata": {},
   "source": [
    "Réponse : Après plusieurs essais, la méthode de la moyenne me semble meilleur"
   ]
  },
  {
   "cell_type": "markdown",
   "metadata": {},
   "source": [
    "# TP Standardisation\n",
    "\n",
    "## Partie 1: standardisation\n",
    "\n",
    "Comparez les métriques de classification par kNN soit avec les représentations par moyenne des MFCCs soit par ces représentations après standardisation.\n",
    "Attention: pour la standardisation, les moyennes et écarts types doivent être calculés sur les données d'apprentissage (train). C'est la même standardisation qui doit être appliquée à toutes les données (train/valid/test).\n",
    "\n",
    "## Partie 2: PCA\n",
    "\n",
    "Implémenter l'algorithme de PCA en utilisant le guide dans les derniers slides du cours. Attention, la transformation s'apprend sur les données d'apprentissage (train) et s'applique ensuite sur toutes les données.\n",
    "\n",
    "Utilisez la PCA pour visualiser les données en 2D."
   ]
  },
  {
   "cell_type": "code",
   "execution_count": 29,
   "metadata": {
    "scrolled": false
   },
   "outputs": [
    {
     "data": {
      "text/plain": [
       "<matplotlib.legend.Legend at 0x7fba9fa00340>"
      ]
     },
     "execution_count": 29,
     "metadata": {},
     "output_type": "execute_result"
    },
    {
     "data": {
      "image/png": "[encoded data removed]",
      "text/plain": [
       "<Figure size 640x480 with 1 Axes>"
      ]
     },
     "metadata": {},
     "output_type": "display_data"
    }
   ],
   "source": [
    "#Partie 1 : Comparaison des résultats précédents avec le résolutat après standardisation\n",
    "\n",
    "abscisse = np.linspace(1,10,10)\n",
    "res_without_transformation = np.zeros(10)\n",
    "res_with_normalization = np.zeros(10)\n",
    "res_with_standardization = np.zeros(10)\n",
    "\n",
    "n = Xtrain.shape[0]\n",
    "mu = np.mean(Xtrain,axis=0)\n",
    "sigma = np.sqrt(np.sum((Xtrain-mu)*(Xtrain-mu),axis=0)/n)\n",
    "mad = np.sum(np.abs(Xtrain - mu),axis=0)/n\n",
    "\n",
    "Xtest_without_transformation = Xtest\n",
    "Xtest_with_normalization = (Xtest - mu)/sigma\n",
    "Xtest_with_standardization = (Xtest - mu)/mad\n",
    "\n",
    "Xtrain_without_transformation = Xtrain\n",
    "Xtrain_with_normalization = (Xtrain - mu)/sigma\n",
    "Xtrain_without_standardization = (Xtrain - mu)/mad\n",
    "\n",
    "for y in range(1,11) :\n",
    "    predTest = [voteKnn(Xtest_without_transformation,yTest,y,i) for i in Xtrain_without_transformation]\n",
    "    res_without_transformation[y-1] = accuracy(predTest,yTest)\n",
    "    predTest = [voteKnn(Xtest_with_normalization,yTest,y,i) for i in Xtrain_with_normalization]\n",
    "    res_with_normalization[y-1] = accuracy(predTest,yTest)\n",
    "    predTest = [voteKnn(Xtest_with_standardization,yTest,y,i) for i in Xtrain_without_standardization]\n",
    "    res_with_standardization[y-1] = accuracy(predTest,yTest)\n",
    "\n",
    "plt.plot(abscisse,res_without_transformation,color='red')\n",
    "plt.plot(abscisse,res_with_normalization,color='blue')\n",
    "plt.plot(abscisse,res_with_standardization,color='green')\n",
    "plt.legend([\"Test without transformation\",\"Test with normalization\", \"Test with standardization\"], loc =\"lower right\")"
   ]
  },
  {
   "cell_type": "code",
   "execution_count": null,
   "metadata": {},
   "outputs": [],
   "source": [
    "#Partie 2 : PCA"
   ]
  }
 ],
 "metadata": {
  "hide_input": false,
  "kernelspec": {
   "display_name": "Python 3 (ipykernel)",
   "language": "python",
   "name": "python3"
  },
  "language_info": {
   "codemirror_mode": {
    "name": "ipython",
    "version": 3
   },
   "file_extension": ".py",
   "mimetype": "text/x-python",
   "name": "python",
   "nbconvert_exporter": "python",
   "pygments_lexer": "ipython3",
   "version": "3.10.6"
  },
  "latex_envs": {
   "LaTeX_envs_menu_present": true,
   "autoclose": false,
   "autocomplete": true,
   "bibliofile": "biblio.bib",
   "cite_by": "apalike",
   "current_citInitial": 1,
   "eqLabelWithNumbers": true,
   "eqNumInitial": 1,
   "hotkeys": {
    "equation": "Ctrl-E",
    "itemize": "Ctrl-I"
   },
   "labels_anchors": false,
   "latex_user_defs": false,
   "report_style_numbering": false,
   "user_envs_cfg": false
  },
  "varInspector": {
   "cols": {
    "lenName": 16,
    "lenType": 16,
    "lenVar": 40
   },
   "kernels_config": {
    "python": {
     "delete_cmd_postfix": "",
     "delete_cmd_prefix": "del ",
     "library": "var_list.py",
     "varRefreshCmd": "print(var_dic_list())"
    },
    "r": {
     "delete_cmd_postfix": ") ",
     "delete_cmd_prefix": "rm(",
     "library": "var_list.r",
     "varRefreshCmd": "cat(var_dic_list()) "
    }
   },
   "types_to_exclude": [
    "module",
    "function",
    "builtin_function_or_method",
    "instance",
    "_Feature"
   ],
   "window_display": false
  }
 },
 "nbformat": 4,
 "nbformat_minor": 4
}
