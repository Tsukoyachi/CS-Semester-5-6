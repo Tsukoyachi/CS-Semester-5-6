{
 "cells": [
  {
   "cell_type": "markdown",
   "metadata": {},
   "source": [
    "# Polytech SI3 - Données numériques: classification de sons\n",
    "Diane Lingrand\n",
    "2022-2023\n"
   ]
  },
  {
   "cell_type": "code",
   "execution_count": 36,
   "metadata": {
    "ExecuteTime": {
     "end_time": "2023-03-23T22:16:07.485692Z",
     "start_time": "2023-03-23T22:16:03.287538Z"
    }
   },
   "outputs": [],
   "source": [
    "#chargement des librairies\n",
    "import matplotlib.pyplot as plt\n",
    "import numpy as np \n",
    "import librosa\n",
    "import librosa.display\n",
    "import IPython.display as ipd"
   ]
  },
  {
   "cell_type": "code",
   "execution_count": 37,
   "metadata": {
    "ExecuteTime": {
     "end_time": "2023-03-23T22:16:07.494870Z",
     "start_time": "2023-03-23T22:16:07.491649Z"
    }
   },
   "outputs": [],
   "source": [
    "import glob"
   ]
  },
  {
   "cell_type": "code",
   "execution_count": 38,
   "metadata": {
    "ExecuteTime": {
     "end_time": "2023-03-23T22:38:42.066807Z",
     "start_time": "2023-03-23T22:38:42.039520Z"
    }
   },
   "outputs": [
    {
     "name": "stdout",
     "output_type": "stream",
     "text": [
      "cat 1733\n",
      "dog 1746\n",
      "bird 1731\n"
     ]
    }
   ],
   "source": [
    "basedir=\"/home/tsukoyachi/Documents/Ecole/SI3/ComputerScience/TD/S6/Données Numériques/TD4/\"\n",
    "# à adapter \n",
    "#attention, sous windows, il faut changer en \"C:\\\\Users\\\\monNom\\\\monCoursPrefere\\\\\"\n",
    "classes = [\"cat\",\"dog\",\"bird\"] \n",
    "nbClasses = len(classes)\n",
    "\n",
    "for cl in classes:\n",
    "    listSons = glob.glob(basedir+cl+\"/*.wav\")\n",
    "    print(cl,len(listSons))"
   ]
  },
  {
   "cell_type": "markdown",
   "metadata": {},
   "source": [
    "## algorithme kNN"
   ]
  },
  {
   "cell_type": "code",
   "execution_count": 39,
   "metadata": {
    "ExecuteTime": {
     "end_time": "2023-03-23T21:52:01.607063Z",
     "start_time": "2023-03-23T21:52:01.600447Z"
    }
   },
   "outputs": [],
   "source": [
    "#knn algo\n",
    "def voteKnn(xtrain, ytrain, nKnn, newData):\n",
    "    \n",
    "    classWhenAmbiguity = 2\n",
    "\n",
    "    d = []\n",
    "    for PX in xtrain:\n",
    "        d.append(np.sqrt(np.power(PX[0] - newData[0], 2) + np.power(PX[1] - newData[1], 2) + np.power(PX[2] - newData[2], 2)))\n",
    "\n",
    "    r = np.argsort(d)\n",
    "\n",
    "    # nKNN smallest distances indices\n",
    "    nei1 = r[0:nKnn]\n",
    "\n",
    "    # nKNN closest data\n",
    "    Xn1 = []\n",
    "    yn1 = []\n",
    "    for ji in nei1:\n",
    "        Xn1.append(xtrain[ji])\n",
    "        yn1.append(ytrain[ji])\n",
    "\n",
    "    cl, co = np.unique(yn1, return_counts=True)\n",
    "    nbOfMC = np.count_nonzero(co == np.max(co))  # Permet de récupérer le nombre de classe qui ont le nombre d'occurrence max du tableau\n",
    "    if nbOfMC > 1:\n",
    "        classe1 = classWhenAmbiguity\n",
    "    else:\n",
    "        maxOccIndex1 = np.argmax(co)  # renvoie l'indice de l'occurrence la plus élevée\n",
    "        classe1 = cl[maxOccIndex1]  # on récupère la classe correspondant à cette occurrence la plus élevée, autrement dit on récupère la classe ayant le nombre d'occurrence le plus élevé, grâce à leur indice identique (dans les tableaux classes et counts, une classe à un indice précis va trouver son occurrence au même indice dans le tableau counts)\n",
    "    return classe1\n"
   ]
  },
  {
   "cell_type": "markdown",
   "metadata": {},
   "source": [
    "## Représentation des sons par 1 MFCC"
   ]
  },
  {
   "cell_type": "code",
   "execution_count": 40,
   "metadata": {
    "ExecuteTime": {
     "end_time": "2023-03-23T21:37:41.156053Z",
     "start_time": "2023-03-23T21:37:07.989109Z"
    }
   },
   "outputs": [],
   "source": [
    "# loading train dataset\n",
    "nb=200 # for each class\n",
    "i = 0\n",
    "clNumber = 0\n",
    "yTrain = []\n",
    "Xtrain = np.empty(shape=(nb*nbClasses, 13), dtype=float)\n",
    "for cl in classes:\n",
    "    listSons = glob.glob(basedir+cl+\"/*.wav\")\n",
    "    for s in listSons[:nb]:\n",
    "        (sig,rate) = librosa.load(s)\n",
    "        mfcc_feat = librosa.feature.mfcc(y=sig,sr=rate,n_mfcc=13, hop_length=len(sig)+1)\n",
    "        Xtrain[i] = mfcc_feat.reshape(13)\n",
    "        i += 1\n",
    "    yTrain += [clNumber]*nb\n",
    "    clNumber += 1\n",
    "\n",
    "yTrain = np.array(yTrain)"
   ]
  },
  {
   "cell_type": "code",
   "execution_count": 41,
   "metadata": {
    "ExecuteTime": {
     "end_time": "2023-03-23T21:38:16.792811Z",
     "start_time": "2023-03-23T21:37:41.217435Z"
    }
   },
   "outputs": [],
   "source": [
    "## loading test dataset\n",
    "i = 0\n",
    "clNumber = 0\n",
    "yTest = []\n",
    "Xtest = np.empty(shape=(nb*nbClasses, 13), dtype=float)\n",
    "for cl in classes:\n",
    "    listSons = glob.glob(basedir+cl+\"/*.wav\")\n",
    "    for s in listSons[-nb:]:\n",
    "    #print(\"###\",s,\"###\")\n",
    "        (sig,rate) = librosa.load(s)\n",
    "        mfcc_feat = librosa.feature.mfcc(y=sig,sr=rate,n_mfcc=13, hop_length=len(sig)+1)    \n",
    "        Xtest[i] = mfcc_feat.reshape(13)\n",
    "        i += 1\n",
    "    yTest += [clNumber]*nb\n",
    "    clNumber += 1\n",
    "\n",
    "yTest = np.array(yTest)"
   ]
  },
  {
   "cell_type": "markdown",
   "metadata": {},
   "source": [
    "## Représentation des sons par la moyenne des MFCCs (longueur standard)"
   ]
  },
  {
   "cell_type": "code",
   "execution_count": 42,
   "metadata": {
    "ExecuteTime": {
     "end_time": "2023-03-23T21:37:41.156053Z",
     "start_time": "2023-03-23T21:37:07.989109Z"
    }
   },
   "outputs": [],
   "source": [
    "# loading train dataset\n",
    "nb=200 # for each class\n",
    "i = 0\n",
    "clNumber = 0\n",
    "yTrain = []\n",
    "Xtrain = np.empty(shape=(nb*nbClasses, 13), dtype=float)\n",
    "for cl in classes:\n",
    "    listSons = glob.glob(basedir+cl+\"/*.wav\")\n",
    "    for s in listSons[:nb]:\n",
    "        (sig,rate) = librosa.load(s)\n",
    "        mfcc_feat = librosa.feature.mfcc(y=sig,sr=rate,n_mfcc=13)\n",
    "        Xtrain[i] = np.mean(mfcc_feat, axis=1)\n",
    "        i += 1\n",
    "    yTrain += [clNumber]*nb\n",
    "    clNumber += 1\n",
    "\n",
    "yTrain = np.array(yTrain)"
   ]
  },
  {
   "cell_type": "code",
   "execution_count": 43,
   "metadata": {
    "ExecuteTime": {
     "end_time": "2023-03-23T21:38:16.792811Z",
     "start_time": "2023-03-23T21:37:41.217435Z"
    }
   },
   "outputs": [],
   "source": [
    "## loading test dataset\n",
    "i = 0\n",
    "clNumber = 0\n",
    "yTest = []\n",
    "Xtest = np.empty(shape=(nb*nbClasses, 13), dtype=float)\n",
    "for cl in classes:\n",
    "    listSons = glob.glob(basedir+cl+\"/*.wav\")\n",
    "    for s in listSons[-nb:]:\n",
    "    #print(\"###\",s,\"###\")\n",
    "        (sig,rate) = librosa.load(s)\n",
    "        mfcc_feat = librosa.feature.mfcc(y=sig,sr=rate,n_mfcc=13)\n",
    "        Xtest[i] = np.mean(mfcc_feat, axis=1)\n",
    "        i += 1\n",
    "    yTest += [clNumber]*nb\n",
    "    clNumber += 1\n",
    "\n",
    "yTest = np.array(yTest)"
   ]
  },
  {
   "cell_type": "markdown",
   "metadata": {},
   "source": [
    "## Classification par kNN"
   ]
  },
  {
   "cell_type": "markdown",
   "metadata": {},
   "source": [
    "**Question 1**: Pour chaque représentation des fichiers sons, calculez les prédictions d'une classification par kNN. Pour cela, il faudra tester plusieurs valeurs de k."
   ]
  },
  {
   "cell_type": "code",
   "execution_count": 44,
   "metadata": {
    "ExecuteTime": {
     "end_time": "2023-03-23T21:52:01.137798Z",
     "start_time": "2023-03-23T21:52:01.134058Z"
    }
   },
   "outputs": [],
   "source": [
    "numberNN = 5"
   ]
  },
  {
   "cell_type": "code",
   "execution_count": 45,
   "metadata": {
    "ExecuteTime": {
     "end_time": "2023-03-23T22:07:51.689342Z",
     "start_time": "2023-03-23T22:07:51.545666Z"
    }
   },
   "outputs": [
    {
     "name": "stdout",
     "output_type": "stream",
     "text": [
      "[1, 2, 0, 2, 0, 0, 2, 0, 0, 0, 0, 2, 2, 2, 0, 2, 1, 0, 0, 0, 2, 0, 2, 2, 0, 2, 2, 2, 0, 0, 0, 2, 2, 0, 2, 0, 0, 2, 0, 0, 0, 0, 0, 0, 2, 0, 0, 0, 0, 0, 2, 0, 2, 2, 2, 0, 0, 2, 0, 0, 0, 2, 0, 1, 0, 0, 2, 2, 0, 0, 0, 0, 2, 0, 0, 2, 2, 2, 0, 0, 1, 2, 0, 1, 0, 0, 0, 0, 2, 2, 2, 2, 0, 0, 2, 0, 0, 0, 2, 2, 0, 0, 2, 0, 2, 2, 2, 1, 2, 0, 2, 0, 2, 1, 2, 0, 0, 0, 0, 2, 0, 0, 1, 0, 2, 1, 0, 2, 0, 0, 2, 2, 1, 0, 0, 0, 0, 0, 0, 0, 2, 2, 0, 0, 0, 0, 2, 0, 2, 0, 0, 0, 2, 0, 2, 0, 2, 0, 0, 0, 0, 0, 2, 2, 0, 0, 0, 0, 2, 0, 2, 2, 1, 0, 0, 0, 0, 2, 2, 0, 0, 2, 1, 0, 1, 0, 0, 0, 2, 2, 2, 1, 2, 2, 1, 0, 2, 0, 0, 1, 1, 2, 2, 1, 1, 1, 2, 2, 2, 0, 2, 0, 2, 2, 2, 1, 1, 0, 2, 2, 2, 0, 2, 2, 2, 1, 1, 1, 2, 1, 1, 2, 1, 2, 2, 1, 1, 0, 2, 2, 2, 2, 1, 2, 1, 0, 1, 0, 2, 1, 1, 1, 2, 1, 2, 2, 1, 2, 1, 0, 1, 2, 2, 1, 1, 1, 1, 1, 2, 2, 2, 1, 2, 2, 0, 1, 0, 2, 2, 1, 1, 2, 2, 2, 0, 0, 1, 2, 2, 2, 2, 0, 1, 2, 2, 2, 1, 2, 2, 1, 2, 2, 1, 1, 1, 2, 2, 1, 0, 1, 2, 2, 2, 2, 2, 1, 2, 2, 0, 2, 0, 2, 2, 2, 2, 2, 2, 2, 1, 1, 2, 1, 0, 2, 1, 1, 1, 0, 1, 2, 2, 2, 0, 1, 2, 0, 1, 2, 2, 1, 1, 1, 0, 0, 2, 2, 2, 1, 1, 1, 1, 1, 2, 0, 2, 2, 1, 2, 2, 1, 1, 1, 1, 2, 2, 2, 2, 2, 1, 2, 1, 0, 1, 1, 2, 2, 1, 0, 1, 0, 2, 1, 2, 2, 1, 1, 1, 1, 1, 1, 1, 1, 1, 1, 2, 2, 2, 1, 2, 2, 0, 2, 2, 2, 2, 2, 2, 2, 2, 2, 1, 2, 2, 2, 2, 2, 2, 2, 2, 2, 1, 2, 2, 2, 2, 2, 2, 2, 2, 2, 2, 2, 2, 1, 2, 2, 2, 2, 1, 2, 2, 2, 2, 1, 1, 2, 1, 2, 2, 2, 1, 2, 2, 1, 0, 2, 0, 2, 2, 2, 2, 2, 2, 2, 2, 2, 0, 1, 2, 2, 2, 2, 2, 1, 2, 0, 2, 2, 1, 2, 2, 2, 2, 2, 2, 2, 2, 2, 2, 2, 2, 2, 2, 2, 2, 2, 2, 2, 2, 2, 2, 2, 2, 2, 2, 2, 2, 2, 2, 2, 2, 2, 1, 2, 2, 1, 2, 2, 1, 1, 2, 2, 1, 2, 1, 2, 2, 2, 2, 1, 2, 2, 1, 2, 0, 1, 2, 2, 0, 2, 2, 2, 2, 2, 0, 2, 2, 2, 2, 0, 2, 2, 2, 2, 2, 2, 2, 2, 2, 2, 2, 2, 1, 2, 2, 2, 2, 1, 0, 2, 2, 1, 2, 2, 2, 2, 2, 1, 1, 2, 1, 2, 2, 1, 2, 2, 1, 2, 2, 2]\n",
      "[1, 2, 0, 2, 0, 0, 2, 0, 0, 0, 0, 2, 2, 2, 0, 2, 1, 0, 0, 0, 2, 0, 2, 2, 0, 2, 2, 2, 0, 0, 0, 2, 2, 0, 2, 0, 0, 2, 0, 0, 0, 0, 0, 0, 2, 0, 0, 0, 0, 0, 2, 0, 2, 2, 2, 0, 0, 2, 0, 0, 0, 2, 0, 1, 0, 0, 2, 2, 0, 0, 0, 0, 2, 0, 0, 2, 2, 2, 0, 0, 1, 2, 0, 1, 0, 0, 0, 0, 2, 2, 2, 2, 0, 0, 2, 0, 0, 0, 2, 2, 0, 0, 2, 0, 2, 2, 2, 1, 2, 0, 2, 0, 2, 1, 2, 0, 0, 0, 0, 2, 0, 0, 1, 0, 2, 1, 0, 2, 0, 0, 2, 2, 1, 0, 0, 0, 0, 0, 0, 0, 2, 2, 0, 0, 0, 0, 2, 0, 2, 0, 0, 0, 2, 0, 2, 0, 2, 0, 0, 0, 0, 0, 2, 2, 0, 0, 0, 0, 2, 0, 2, 2, 1, 0, 0, 0, 0, 2, 2, 0, 0, 2, 1, 0, 1, 0, 0, 0, 2, 2, 2, 1, 2, 2, 1, 0, 2, 0, 0, 1, 1, 2, 2, 1, 1, 1, 2, 2, 2, 0, 2, 0, 2, 2, 2, 1, 1, 0, 2, 2, 2, 0, 2, 2, 2, 1, 1, 1, 2, 1, 1, 2, 1, 2, 2, 1, 1, 0, 2, 2, 2, 2, 1, 2, 1, 0, 1, 0, 2, 1, 1, 1, 2, 1, 2, 2, 1, 2, 1, 0, 1, 2, 2, 1, 1, 1, 1, 1, 2, 2, 2, 1, 2, 2, 0, 1, 0, 2, 2, 1, 1, 2, 2, 2, 0, 0, 1, 2, 2, 2, 2, 0, 1, 2, 2, 2, 1, 2, 2, 1, 2, 2, 1, 1, 1, 2, 2, 1, 0, 1, 2, 2, 2, 2, 2, 1, 2, 2, 0, 2, 0, 2, 2, 2, 2, 2, 2, 2, 1, 1, 2, 1, 0, 2, 1, 1, 1, 0, 1, 2, 2, 2, 0, 1, 2, 0, 1, 2, 2, 1, 1, 1, 0, 0, 2, 2, 2, 1, 1, 1, 1, 1, 2, 0, 2, 2, 1, 2, 2, 1, 1, 1, 1, 2, 2, 2, 2, 2, 1, 2, 1, 0, 1, 1, 2, 2, 1, 0, 1, 0, 2, 1, 2, 2, 1, 1, 1, 1, 1, 1, 1, 1, 1, 1, 2, 2, 2, 1, 2, 2, 0, 2, 2, 2, 2, 2, 2, 2, 2, 2, 1, 2, 2, 2, 2, 2, 2, 2, 2, 2, 1, 2, 2, 2, 2, 2, 2, 2, 2, 2, 2, 2, 2, 1, 2, 2, 2, 2, 1, 2, 2, 2, 2, 1, 1, 2, 1, 2, 2, 2, 1, 2, 2, 1, 0, 2, 0, 2, 2, 2, 2, 2, 2, 2, 2, 2, 0, 1, 2, 2, 2, 2, 2, 1, 2, 0, 2, 2, 1, 2, 2, 2, 2, 2, 2, 2, 2, 2, 2, 2, 2, 2, 2, 2, 2, 2, 2, 2, 2, 2, 2, 2, 2, 2, 2, 2, 2, 2, 2, 2, 2, 2, 1, 2, 2, 1, 2, 2, 1, 1, 2, 2, 1, 2, 1, 2, 2, 2, 2, 1, 2, 2, 1, 2, 0, 1, 2, 2, 0, 2, 2, 2, 2, 2, 0, 2, 2, 2, 2, 0, 2, 2, 2, 2, 2, 2, 2, 2, 2, 2, 2, 2, 1, 2, 2, 2, 2, 1, 0, 2, 2, 1, 2, 2, 2, 2, 2, 1, 1, 2, 1, 2, 2, 1, 2, 2, 1, 2, 2, 2]\n",
      "[2, 0, 1, 0, 0, 0, 1, 1, 0, 1, 1, 0, 2, 0, 0, 0, 0, 2, 2, 1, 0, 0, 2, 1, 2, 1, 1, 2, 2, 0, 2, 2, 0, 1, 2, 0, 0, 1, 0, 2, 2, 2, 0, 1, 2, 0, 2, 0, 0, 2, 0, 0, 2, 2, 2, 2, 0, 1, 0, 2, 0, 0, 0, 2, 2, 1, 2, 0, 0, 0, 0, 2, 2, 0, 1, 0, 0, 2, 2, 0, 2, 0, 2, 1, 0, 0, 2, 0, 0, 0, 0, 1, 1, 2, 0, 0, 2, 2, 1, 2, 2, 1, 0, 1, 0, 1, 0, 1, 0, 1, 0, 2, 1, 1, 2, 1, 0, 2, 2, 1, 0, 2, 2, 2, 2, 0, 2, 0, 0, 1, 0, 0, 2, 0, 0, 2, 2, 2, 1, 0, 2, 2, 0, 0, 2, 1, 0, 0, 1, 2, 2, 0, 2, 2, 0, 2, 2, 1, 1, 2, 0, 0, 2, 2, 0, 2, 2, 2, 0, 2, 1, 0, 2, 1, 0, 0, 2, 0, 0, 2, 2, 2, 0, 2, 0, 0, 2, 2, 2, 0, 0, 1, 2, 2, 2, 0, 2, 0, 0, 1, 2, 2, 0, 0, 0, 0, 1, 2, 0, 1, 2, 2, 0, 2, 1, 1, 2, 2, 1, 0, 2, 2, 1, 2, 2, 1, 2, 0, 1, 1, 2, 1, 1, 2, 1, 2, 1, 2, 1, 1, 2, 1, 1, 2, 1, 2, 2, 0, 2, 1, 0, 2, 0, 2, 2, 0, 1, 1, 2, 2, 1, 2, 0, 2, 2, 2, 2, 1, 2, 2, 2, 1, 1, 2, 1, 0, 2, 2, 2, 2, 2, 1, 2, 2, 1, 2, 2, 1, 1, 2, 2, 2, 1, 2, 2, 2, 2, 2, 2, 0, 2, 2, 1, 1, 1, 2, 1, 2, 2, 2, 2, 2, 2, 2, 2, 0, 2, 0, 2, 0, 1, 2, 2, 2, 2, 1, 2, 2, 1, 2, 2, 2, 0, 2, 1, 2, 1, 1, 2, 2, 0, 0, 2, 2, 2, 2, 0, 0, 0, 2, 2, 0, 2, 1, 2, 2, 2, 1, 1, 2, 2, 2, 1, 2, 1, 2, 2, 2, 1, 0, 2, 2, 1, 1, 1, 2, 2, 1, 2, 1, 0, 0, 2, 2, 2, 1, 2, 2, 0, 0, 2, 2, 0, 2, 2, 2, 2, 2, 2, 1, 0, 0, 2, 2, 2, 2, 1, 2, 1, 1, 2, 2, 2, 2, 2, 1, 2, 2, 1, 2, 2, 2, 2, 2, 2, 0, 1, 2, 1, 2, 2, 2, 2, 1, 2, 2, 2, 1, 2, 1, 1, 2, 0, 0, 2, 2, 2, 1, 2, 0, 1, 2, 2, 0, 2, 2, 0, 2, 0, 2, 0, 2, 2, 0, 2, 2, 2, 2, 1, 2, 1, 1, 2, 2, 2, 2, 2, 1, 1, 2, 2, 2, 2, 0, 2, 2, 2, 2, 2, 2, 1, 2, 2, 2, 2, 2, 1, 0, 0, 2, 2, 2, 1, 2, 0, 2, 2, 1, 2, 0, 2, 2, 0, 0, 2, 2, 2, 1, 2, 0, 0, 2, 2, 1, 1, 2, 2, 0, 2, 2, 2, 0, 1, 2, 0, 1, 2, 2, 2, 1, 0, 2, 2, 2, 2, 1, 2, 2, 0, 2, 2, 1, 2, 2, 2, 1, 2, 2, 0, 2, 1, 2, 2, 2, 2, 2, 2, 2, 2, 2, 1, 2, 2, 2, 2, 1, 1, 1, 1, 1, 0, 2, 2, 2, 1, 2, 1, 0, 2, 1, 2, 2, 0, 2, 1, 2, 1, 2, 2, 2]\n",
      "[2, 0, 1, 0, 0, 0, 1, 1, 0, 1, 1, 0, 2, 0, 0, 0, 0, 2, 2, 1, 0, 0, 2, 1, 2, 1, 1, 2, 2, 0, 2, 2, 0, 1, 2, 0, 0, 1, 0, 2, 2, 2, 0, 1, 2, 0, 2, 0, 0, 2, 0, 0, 2, 2, 2, 2, 0, 1, 0, 2, 0, 0, 0, 2, 2, 1, 2, 0, 0, 0, 0, 2, 2, 0, 1, 0, 0, 2, 2, 0, 2, 0, 2, 1, 0, 0, 2, 0, 0, 0, 0, 1, 1, 2, 0, 0, 2, 2, 1, 2, 2, 1, 0, 1, 0, 1, 0, 1, 0, 1, 0, 2, 1, 1, 2, 1, 0, 2, 2, 1, 0, 2, 2, 2, 2, 0, 2, 0, 0, 1, 0, 0, 2, 0, 0, 2, 2, 2, 1, 0, 2, 2, 0, 0, 2, 1, 0, 0, 1, 2, 2, 0, 2, 2, 0, 2, 2, 1, 1, 2, 0, 0, 2, 2, 0, 2, 2, 2, 0, 2, 1, 0, 2, 1, 0, 0, 2, 0, 0, 2, 2, 2, 0, 2, 0, 0, 2, 2, 2, 0, 0, 1, 2, 2, 2, 0, 2, 0, 0, 1, 2, 2, 0, 0, 0, 0, 1, 2, 0, 1, 2, 2, 0, 2, 1, 1, 2, 2, 1, 0, 2, 2, 1, 2, 2, 1, 2, 0, 1, 1, 2, 1, 1, 2, 1, 2, 1, 2, 1, 1, 2, 1, 1, 2, 1, 2, 2, 0, 2, 1, 0, 2, 0, 2, 2, 0, 1, 1, 2, 2, 1, 2, 0, 2, 2, 2, 2, 1, 2, 2, 2, 1, 1, 2, 1, 0, 2, 2, 2, 2, 2, 1, 2, 2, 1, 2, 2, 1, 1, 2, 2, 2, 1, 2, 2, 2, 2, 2, 2, 0, 2, 2, 1, 1, 1, 2, 1, 2, 2, 2, 2, 2, 2, 2, 2, 0, 2, 0, 2, 0, 1, 2, 2, 2, 2, 1, 2, 2, 1, 2, 2, 2, 0, 2, 1, 2, 1, 1, 2, 2, 0, 0, 2, 2, 2, 2, 0, 0, 0, 2, 2, 0, 2, 1, 2, 2, 2, 1, 1, 2, 2, 2, 1, 2, 1, 2, 2, 2, 1, 0, 2, 2, 1, 1, 1, 2, 2, 1, 2, 1, 0, 0, 2, 2, 2, 1, 2, 2, 0, 0, 2, 2, 0, 2, 2, 2, 2, 2, 2, 1, 0, 0, 2, 2, 2, 2, 1, 2, 1, 1, 2, 2, 2, 2, 2, 1, 2, 2, 1, 2, 2, 2, 2, 2, 2, 0, 1, 2, 1, 2, 2, 2, 2, 1, 2, 2, 2, 1, 2, 1, 1, 2, 0, 0, 2, 2, 2, 1, 2, 0, 1, 2, 2, 0, 2, 2, 0, 2, 0, 2, 0, 2, 2, 0, 2, 2, 2, 2, 1, 2, 1, 1, 2, 2, 2, 2, 2, 1, 1, 2, 2, 2, 2, 0, 2, 2, 2, 2, 2, 2, 1, 2, 2, 2, 2, 2, 1, 0, 0, 2, 2, 2, 1, 2, 0, 2, 2, 1, 2, 0, 2, 2, 0, 0, 2, 2, 2, 1, 2, 0, 0, 2, 2, 1, 1, 2, 2, 0, 2, 2, 2, 0, 1, 2, 0, 1, 2, 2, 2, 1, 0, 2, 2, 2, 2, 1, 2, 2, 0, 2, 2, 1, 2, 2, 2, 1, 2, 2, 0, 2, 1, 2, 2, 2, 2, 2, 2, 2, 2, 2, 1, 2, 2, 2, 2, 1, 1, 1, 1, 1, 0, 2, 2, 2, 1, 2, 1, 0, 2, 1, 2, 2, 0, 2, 1, 2, 1, 2, 2, 2]\n"
     ]
    }
   ],
   "source": [
    "#predictions\n",
    "predTrain1 = [voteKnn(Xtrain, yTrain, numberNN, i) for i in Xtrain] # tableau des résultats de knn avec xTrain1\n",
    "predTrain2 = [voteKnn(Xtrain, yTrain, numberNN, i) for i in Xtrain] # tableau des résultats de knn avec xTrain2\n",
    "\n",
    "predTest1 = [voteKnn(Xtrain, yTrain, numberNN, i) for i in Xtest]  # tableau des résultats de knn avec xTest1\n",
    "predTest2 = [voteKnn(Xtrain, yTrain, numberNN, i) for i in Xtest]  # tableau des résultats de knn avec xTest2\n",
    "\n",
    "print(predTrain1)\n",
    "print(predTrain2)\n",
    "print(predTest1)\n",
    "print(predTest2)"
   ]
  },
  {
   "cell_type": "markdown",
   "metadata": {
    "ExecuteTime": {
     "end_time": "2023-03-23T22:33:34.130488Z",
     "start_time": "2023-03-23T22:33:34.127318Z"
    }
   },
   "source": [
    "**Question 2**: Calculez les matrices de confusion, les métriques de précision 'accuracy' et de score F1 pour les données d'apprentissage et de test. Pour cela, écrire 3 fonctions: <ul> <li> une fonction qui affiche une matrice de confusion</li> <li>une fonction qui calcule la précision (accuracy)</li><li>une fonction qui calcule le score F1 d'une classe</li></ul>"
   ]
  },
  {
   "cell_type": "code",
   "execution_count": 46,
   "metadata": {
    "ExecuteTime": {
     "end_time": "2023-03-23T22:41:38.902332Z",
     "start_time": "2023-03-23T22:41:38.898928Z"
    }
   },
   "outputs": [
    {
     "name": "stdout",
     "output_type": "stream",
     "text": [
      "numberNN = 5\n",
      "xTrain1 dans xTrain1 :\n",
      " [[112.  16.  72.]\n",
      " [ 26.  78.  96.]\n",
      " [ 10.  34. 156.]]\n",
      "xTrain2 dans xTrain2 :\n",
      " [[112.  16.  72.]\n",
      " [ 26.  78.  96.]\n",
      " [ 10.  34. 156.]]\n",
      "xTest1 dans xTrain1 :\n",
      " [[ 79.  28.  93.]\n",
      " [ 34.  55. 111.]\n",
      " [ 28.  45. 127.]]\n",
      "xTest2 dans xTrain2 :\n",
      " [[ 79.  28.  93.]\n",
      " [ 34.  55. 111.]\n",
      " [ 28.  45. 127.]]\n",
      "Accuracy :\n",
      "xTrain1 dans xTrain1 : 0.7177777777777777\n",
      "xTrain2 dans xTrain2 : 0.7177777777777777\n",
      "xTest1 dans xTrain1 : 0.6233333333333333\n",
      "xTest2 dans xTrain2 : 0.6233333333333333\n",
      "Score f1 :\n",
      "xTrain1 dans xTrain1 : 0.5766666666666667\n",
      "xTrain2 dans xTrain2 : 0.5766666666666667\n",
      "xTest1 dans xTrain1 : 0.435\n",
      "xTest2 dans xTrain2 : 0.435\n"
     ]
    }
   ],
   "source": [
    "def matriceConfusion(predTrain, nbClasses, nbSoundEachClass):\n",
    "    matriceConfusion = np.zeros((nbClasses, nbClasses))\n",
    "\n",
    "    for cl in range(nbClasses):\n",
    "        for i in range(nbSoundEachClass):\n",
    "            pred = predTrain[cl * nbSoundEachClass + i]\n",
    "            matriceConfusion[cl][pred] += 1\n",
    "    return matriceConfusion\n",
    "\n",
    "confusionMatrixTrain1 = matriceConfusion(predTrain, nbClasses, nb)\n",
    "confusionMatrixTrain2 = matriceConfusion(predTrain, nbClasses, nb)\n",
    "confusionMatrixTest1 = matriceConfusion(predTest, nbClasses, nb)\n",
    "confusionMatrixTest2 = matriceConfusion(predTest, nbClasses, nb)\n",
    "\n",
    "print(\"numberNN =\", numberNN)\n",
    "print(\"xTrain1 dans xTrain1 :\\n\", confusionMatrixTrain1)\n",
    "print(\"xTrain2 dans xTrain2 :\\n\", confusionMatrixTrain2)\n",
    "print(\"xTest1 dans xTrain1 :\\n\", confusionMatrixTest1)\n",
    "print(\"xTest2 dans xTrain2 :\\n\", confusionMatrixTest2)\n",
    "\n",
    "\n",
    "def selections(matriceConfusion, classeCible):\n",
    "    vp = 0\n",
    "    vn = 0\n",
    "    fp = 0\n",
    "    fn = 0\n",
    "    nbClasses = len(matriceConfusion)\n",
    "\n",
    "    for i in range(nbClasses):\n",
    "        for j in range(nbClasses):\n",
    "            if (i == classeCible):\n",
    "                if (j == classeCible):\n",
    "                    vp += matriceConfusion[i][j]\n",
    "                else:\n",
    "                    fn += matriceConfusion[i][j]\n",
    "            else:\n",
    "                if (j == classeCible):\n",
    "                    fp += matriceConfusion[i][j]\n",
    "                else:\n",
    "                    vn += matriceConfusion[i][j]\n",
    "    return vp, vn, fp, fn\n",
    "\n",
    "def totaleAccuracy(matriceConfusion):\n",
    "    vp, vn, fp, fn = (0, 0, 0, 0)\n",
    "    for i in range(len(matriceConfusion)):\n",
    "        vpTemp, vnTemp, fpTemp, fnTemp = selections(matriceConfusion, i)\n",
    "        vp += vpTemp\n",
    "        vn += vnTemp\n",
    "        fp += fpTemp\n",
    "        fn += fnTemp\n",
    "    return (vp + vn) / (vp + vn + fp + fn)\n",
    "\n",
    "print(\"Accuracy :\")\n",
    "print(\"xTrain1 dans xTrain1 :\", totaleAccuracy(confusionMatrixTrain1))\n",
    "print(\"xTrain2 dans xTrain2 :\", totaleAccuracy(confusionMatrixTrain2))\n",
    "print(\"xTest1 dans xTrain1 :\", totaleAccuracy(confusionMatrixTest1))\n",
    "print(\"xTest2 dans xTrain2 :\", totaleAccuracy(confusionMatrixTest2))\n",
    "\n",
    "\n",
    "def scoref1(matriceConfusion):\n",
    "    vp, vn, fp, fn = (0, 0, 0, 0)\n",
    "    for i in range(len(matriceConfusion)):\n",
    "        vpTemp, vnTemp, fpTemp, fnTemp = selections(matriceConfusion, i)\n",
    "        vp += vpTemp\n",
    "        vn += vnTemp\n",
    "        fp += fpTemp\n",
    "        fn += fnTemp\n",
    "    return 2 * vp / (2 * vp + fp + fn)\n",
    "\n",
    "print(\"Score f1 :\")\n",
    "print(\"xTrain1 dans xTrain1 :\", scoref1(confusionMatrixTrain1))\n",
    "print(\"xTrain2 dans xTrain2 :\", scoref1(confusionMatrixTrain2))\n",
    "print(\"xTest1 dans xTrain1 :\", scoref1(confusionMatrixTest1))\n",
    "print(\"xTest2 dans xTrain2 :\", scoref1(confusionMatrixTest2))"
   ]
  },
  {
   "cell_type": "markdown",
   "metadata": {},
   "source": [
    "**Question 3:** Affichez la courbe de la précision (accuracy) en fonction du k de kNN pour les données d'apprentissage et pour les données de test."
   ]
  },
  {
   "cell_type": "code",
   "execution_count": null,
   "metadata": {
    "ExecuteTime": {
     "end_time": "2023-03-23T22:41:39.795746Z",
     "start_time": "2023-03-23T22:41:39.793601Z"
    },
    "scrolled": false
   },
   "outputs": [],
   "source": [
    "def metriques(xTrain, yTrain, newValues, numberNN, classes, nbSoundEachClass):\n",
    "    nbClasses = len(classes)\n",
    "\n",
    "    predNew = [voteKnn(xTrain, yTrain, numberNN, i) for i in newValues]\n",
    "    confusionMatrix = matriceConfusion(predNew, nbClasses, nbSoundEachClass)\n",
    "    accuracy = totaleAccuracy(confusionMatrix)\n",
    "    f1 = scoref1(confusionMatrix)\n",
    "    return accuracy, f1\n",
    "\n",
    "\n",
    "resTrain2 = []\n",
    "resTest2 = []\n",
    "\n",
    "for i in range(1, 200):\n",
    "    resTrain2.append(metriques(Xtrain, yTrain, Xtrain, i, classes, nb))\n",
    "    resTest2.append(metriques(Xtrain, yTrain, Xtest, i, classes, nb))\n",
    "\n",
    "resInit = [i for i in range(1, 200)]\n",
    "\n",
    "resTrain2 = np.array(resTrain2)\n",
    "resTest2 = np.array(resTest2)\n",
    "\n",
    "fig, (ax1, ax2) = plt.subplots(1, 2, figsize=(20, 7), sharey=True)\n",
    "ax1.set_title('Accuracy en fonction de knn')\n",
    "ax2.set_title('Score f1 en fonction de knn')\n",
    "# ax1.text(60, 0.90, \"yellow:  xTest par moyenne MFCC\\ngreen:   xTrain par moyenne MFCC\\nred:       xTest par 1 MFCC\\nblue:     xTrain par 1 MFCC\")\n",
    "# ax2.text(60, 0.90, \"yellow:  xTest par moyenne MFCC\\ngreen:   xTrain par moyenne MFCC\\nred:       xTest par 1 MFCC\\nblue:     xTrain par 1 MFCC\")\n",
    "ax1.plot(resInit, resTrain2[:, 0], color=\"g\", label=\"xTrain par moyenne MFCC\")\n",
    "ax1.plot(resInit, resTest2[:, 0], color=\"y\", label=\"xTest par moyenne MFCC\")\n",
    "ax1.legend()\n",
    "ax2.legend()\n",
    "plt.show()\n"
   ]
  },
  {
   "cell_type": "markdown",
   "metadata": {},
   "source": [
    "**Question 4:** Parmi les 2 représentations proposées, laquelle vous parait la meilleure?"
   ]
  },
  {
   "cell_type": "markdown",
   "metadata": {},
   "source": [
    "Réponse : Après plusieurs essais, la méthode de la moyenne me semble meilleur"
   ]
  },
  {
   "cell_type": "markdown",
   "metadata": {},
   "source": [
    "# TP Standardisation\n",
    "\n",
    "## Partie 1: standardisation\n",
    "\n",
    "Comparez les métriques de classification par kNN soit avec les représentations par moyenne des MFCCs soit par ces représentations après standardisation.\n",
    "Attention: pour la standardisation, les moyennes et écarts types doivent être calculés sur les données d'apprentissage (train). C'est la même standardisation qui doit être appliquée à toutes les données (train/valid/test).\n",
    "\n",
    "## Partie 2: PCA\n",
    "\n",
    "Implémenter l'algorithme de PCA en utilisant le guide dans les derniers slides du cours. Attention, la transformation s'apprend sur les données d'apprentissage (train) et s'applique ensuite sur toutes les données.\n",
    "\n",
    "Utilisez la PCA pour visualiser les données en 2D."
   ]
  },
  {
   "cell_type": "code",
   "execution_count": null,
   "metadata": {
    "scrolled": false
   },
   "outputs": [],
   "source": [
    "# loading train dataset\n",
    "nb = 500  # for each class\n",
    "i = 0\n",
    "clNumber = 0\n",
    "yTrain = []\n",
    "xTrain = np.empty(shape=(nb * nbClasses, 13), dtype=float)\n",
    "for cl in classes:\n",
    "    listSons = glob.glob(basedir + cl + \"/*.wav\")\n",
    "    for s in listSons[:nb]:\n",
    "        (sig, rate) = librosa.load(s)\n",
    "        mfcc_feat = librosa.feature.mfcc(y=sig, sr=rate, n_mfcc=13)\n",
    "        xTrain[i] = np.mean(mfcc_feat, axis=1)\n",
    "        i += 1\n",
    "    yTrain += [clNumber] * nb\n",
    "    clNumber += 1\n",
    "\n",
    "yTrain = np.array(yTrain)"
   ]
  },
  {
   "cell_type": "code",
   "execution_count": null,
   "metadata": {},
   "outputs": [],
   "source": [
    "## loading test dataset\n",
    "i = 0\n",
    "clNumber = 0\n",
    "yTest = []\n",
    "xTest = np.empty(shape=(nb * nbClasses, 13), dtype=float)\n",
    "for cl in classes:\n",
    "    listSons = glob.glob(basedir + cl + \"/*.wav\")\n",
    "    for s in listSons[-nb:]:\n",
    "        (sig, rate) = librosa.load(s)\n",
    "        mfcc_feat = librosa.feature.mfcc(y=sig, sr=rate, n_mfcc=13)\n",
    "        xTest[i] = np.mean(mfcc_feat, axis=1)\n",
    "        i += 1\n",
    "    yTest += [clNumber] * nb\n",
    "    clNumber += 1\n",
    "\n",
    "yTest = np.array(yTest)"
   ]
  },
  {
   "cell_type": "code",
   "execution_count": null,
   "metadata": {},
   "outputs": [],
   "source": [
    "# loading valid dataset\n",
    "i = 0\n",
    "clNumber = 0\n",
    "yValid = []\n",
    "xValid = np.empty(shape=(nb * nbClasses, 13), dtype=float)\n",
    "for cl in classes:\n",
    "    listSons = glob.glob(basedir + cl + \"/*.wav\")\n",
    "    for s in listSons[nb:nb*2]:\n",
    "        (sig, rate) = librosa.load(s)\n",
    "        mfcc_feat = librosa.feature.mfcc(y=sig, sr=rate, n_mfcc=13)\n",
    "        xValid[i] = np.mean(mfcc_feat, axis=1)\n",
    "        i += 1\n",
    "    yValid += [clNumber] * nb\n",
    "    clNumber += 1\n",
    "\n",
    "yValid = np.array(yValid)"
   ]
  },
  {
   "cell_type": "code",
   "execution_count": null,
   "metadata": {},
   "outputs": [],
   "source": [
    "n = xTrain.shape[0]\n",
    "mu = np.mean(xTrain, axis=0)\n",
    "var = np.sum((xTrain - mu)**2, axis=0) / n\n",
    "sigma = np.sqrt(var)\n",
    "mad = np.sum(np.abs(xTrain - mu), axis=0) / n\n",
    "\n",
    "print(n)\n",
    "print(mu)\n",
    "print(var)\n",
    "print(sigma)\n",
    "print(mad)"
   ]
  },
  {
   "cell_type": "code",
   "execution_count": null,
   "metadata": {},
   "outputs": [],
   "source": [
    "xTrainNorm = (xTrain - mu) / sigma\n",
    "xTrainStand = (xTrain - mu) / mad\n",
    "xTestNorm = (xTest - mu) / sigma\n",
    "xTestStand = (xTest - mu) / mad\n",
    "xValidNorm = (xValid - mu) / sigma\n",
    "xValidStand = (xValid - mu) / mad\n",
    "\n",
    "resTrain = []\n",
    "resTrainNorm = []\n",
    "resTrainStand = []\n",
    "resTest = []\n",
    "resTestNorm = []\n",
    "resTestStand = []\n",
    "resValid = []\n",
    "resValidNorm = []\n",
    "resValidStand = []\n",
    "\n",
    "for i in range(1, 200):\n",
    "    resTrain.append(metriques(xTrain, yTrain, xTrain, i, classes, nb))\n",
    "    resTrainNorm.append(metriques(xTrainNorm, yTrain, xTrainNorm, i, classes, nb))\n",
    "    resTrainStand.append(metriques(xTrainStand, yTrain, xTrainStand, i, classes, nb))\n",
    "    resTest.append(metriques(xTrain, yTrain, xTest, i, classes, nb))\n",
    "    resTestNorm.append(metriques(xTrainNorm, yTrain, xTestNorm, i, classes, nb))\n",
    "    resTestStand.append(metriques(xTrainStand, yTrain, xTestStand, i, classes, nb))\n",
    "    resValid.append(metriques(xTrain, yTrain, xValid, i, classes, nb))\n",
    "    resValidNorm.append(metriques(xTrainNorm, yTrain, xValidNorm, i, classes, nb))\n",
    "    resValidStand.append(metriques(xTrainStand, yTrain, xValidStand, i, classes, nb))\n",
    "\n",
    "resInit = [i for i in range(1, 200)]\n",
    "\n",
    "resTrain = np.array(resTrain)\n",
    "resTrainNorm = np.array(resTrainNorm)\n",
    "resTrainStand = np.array(resTrainStand)\n",
    "resTest = np.array(resTest)\n",
    "resTestNorm = np.array(resTestNorm)\n",
    "resTestStand = np.array(resTestStand)\n",
    "resValid = np.array(resValid)\n",
    "resValidNorm = np.array(resValidNorm)\n",
    "resValidStand = np.array(resValidStand)\n",
    "\n",
    "fig, (ax1, ax2, ax3) = plt.subplots(1, 3, figsize=(20, 7), sharey=True)\n",
    "ax1.set_title(\"Accuracy en fonction de knn avec Train\")\n",
    "ax2.set_title(\"Accuracy en fonction de knn avec Test\")\n",
    "ax3.set_title(\"Accuracy en fonction de knn avec Valid\")\n",
    "ax1.plot(resInit, resTrain[:, 0], color=\"b\", label=\"xTrain dans xTrain\")\n",
    "ax1.plot(resInit, resTrainNorm[:, 0], color=\"g\", label=\"xTrainNorm dans xTrainNorm\")\n",
    "ax1.plot(resInit, resTrainStand[:, 0], color='r', label=\"xTrainStand dans xTrainStand\")\n",
    "ax2.plot(resInit, resTest[:, 0], color=\"b\", label=\"xTest dans xTrain\")\n",
    "ax2.plot(resInit, resTestNorm[:, 0], color=\"g\", label=\"xTestNorm dans xTrainNorm\")\n",
    "ax2.plot(resInit, resTestStand[:, 0], color='r', label=\"xTestStand dans xTrainStand\")\n",
    "ax3.plot(resInit, resValid[:, 0], color=\"b\", label=\"xValid dans xTrain\")\n",
    "ax3.plot(resInit, resValidNorm[:, 0], color=\"g\", label=\"xValidNorm dans xTrainNorm\")\n",
    "ax3.plot(resInit, resValidStand[:, 0], color='r', label=\"xValidStand dans xTrainStand\")\n",
    "ax1.legend()\n",
    "ax2.legend()\n",
    "ax3.legend()\n",
    "plt.show()"
   ]
  }
 ],
 "metadata": {
  "hide_input": false,
  "kernelspec": {
   "display_name": "Python 3 (ipykernel)",
   "language": "python",
   "name": "python3"
  },
  "language_info": {
   "codemirror_mode": {
    "name": "ipython",
    "version": 3
   },
   "file_extension": ".py",
   "mimetype": "text/x-python",
   "name": "python",
   "nbconvert_exporter": "python",
   "pygments_lexer": "ipython3",
   "version": "3.10.6"
  },
  "latex_envs": {
   "LaTeX_envs_menu_present": true,
   "autoclose": false,
   "autocomplete": true,
   "bibliofile": "biblio.bib",
   "cite_by": "apalike",
   "current_citInitial": 1,
   "eqLabelWithNumbers": true,
   "eqNumInitial": 1,
   "hotkeys": {
    "equation": "Ctrl-E",
    "itemize": "Ctrl-I"
   },
   "labels_anchors": false,
   "latex_user_defs": false,
   "report_style_numbering": false,
   "user_envs_cfg": false
  },
  "varInspector": {
   "cols": {
    "lenName": 16,
    "lenType": 16,
    "lenVar": 40
   },
   "kernels_config": {
    "python": {
     "delete_cmd_postfix": "",
     "delete_cmd_prefix": "del ",
     "library": "var_list.py",
     "varRefreshCmd": "print(var_dic_list())"
    },
    "r": {
     "delete_cmd_postfix": ") ",
     "delete_cmd_prefix": "rm(",
     "library": "var_list.r",
     "varRefreshCmd": "cat(var_dic_list()) "
    }
   },
   "types_to_exclude": [
    "module",
    "function",
    "builtin_function_or_method",
    "instance",
    "_Feature"
   ],
   "window_display": false
  }
 },
 "nbformat": 4,
 "nbformat_minor": 4
}
