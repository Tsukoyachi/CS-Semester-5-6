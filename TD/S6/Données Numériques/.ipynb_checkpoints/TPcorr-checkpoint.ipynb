{
 "cells": [
  {
   "cell_type": "markdown",
   "metadata": {},
   "source": [
    "# TP images: corrélation et recherche de motif\n",
    "## Données numériques - 2022-23\n",
    "### Diane Lingrand (Diane.Lingrand@univ-cotedazur.fr)"
   ]
  },
  {
   "cell_type": "code",
   "execution_count": 5,
   "metadata": {},
   "outputs": [],
   "source": [
    "from skimage import io\n",
    "from skimage import data\n",
    "from skimage import transform\n",
    "from skimage.color import rgb2gray\n",
    "import numpy as np\n",
    "from matplotlib import pyplot as plt\n",
    "from matplotlib.patches import Circle\n",
    "import math"
   ]
  },
  {
   "cell_type": "code",
   "execution_count": 6,
   "metadata": {},
   "outputs": [],
   "source": [
    "%matplotlib inline"
   ]
  },
  {
   "cell_type": "markdown",
   "metadata": {},
   "source": [
    "## Cross Correlation"
   ]
  },
  {
   "cell_type": "code",
   "execution_count": 7,
   "metadata": {},
   "outputs": [],
   "source": [
    "#voici les imagettes utilisées dans les slides\n",
    "imageTest = np.array([[4,5,6,7,8],[4,5,8,9,10],[40,50,80,90,100],[43,48,88,92,5]])\n",
    "motifTest = np.array([[4,5,6],[4,5,8],[40,50,80]])"
   ]
  },
  {
   "cell_type": "code",
   "execution_count": 8,
   "metadata": {},
   "outputs": [
    {
     "name": "stdout",
     "output_type": "stream",
     "text": [
      "[[  4   5   6   7   8]\n",
      " [  4   5   8   9  10]\n",
      " [ 40  50  80  90 100]\n",
      " [ 43  48  88  92   5]]\n",
      "[[ 4  5  6]\n",
      " [ 4  5  8]\n",
      " [40 50 80]]\n"
     ]
    },
    {
     "data": {
      "text/plain": [
       "<matplotlib.image.AxesImage at 0x7fb103e53250>"
      ]
     },
     "execution_count": 8,
     "metadata": {},
     "output_type": "execute_result"
    },
    {
     "data": {
      "image/png": "[encoded data removed]",
      "text/plain": [
       "<Figure size 480x480 with 1 Axes>"
      ]
     },
     "metadata": {},
     "output_type": "display_data"
    },
    {
     "data": {
      "image/png": "[encoded data removed]",
      "text/plain": [
       "<Figure size 600x480 with 1 Axes>"
      ]
     },
     "metadata": {},
     "output_type": "display_data"
    }
   ],
   "source": [
    "print(imageTest)\n",
    "print(motifTest)\n",
    "plt.matshow(motifTest)\n",
    "plt.matshow(imageTest)"
   ]
  },
  {
   "cell_type": "markdown",
   "metadata": {},
   "source": [
    "**Question 1:** Ecrire le code de la fonction *correlationWithoutNorm* qui prend en entrée 2 tableaux 2d de valeurs: une image (en niveau de gris) et un motif et retourne l'image de correlation sans aucune normalisation."
   ]
  },
  {
   "cell_type": "code",
   "execution_count": 17,
   "metadata": {},
   "outputs": [],
   "source": [
    "def crossCorrelationWithoutNorm(img, motif):\n",
    "    (h,w) = img.shape[:2]\n",
    "    (hMotif,wMotif) = motif.shape[:2]\n",
    "    res = np.zeros(img.shape)\n",
    "    for i in range(hMotif//2, h-hMotif//2):\n",
    "        for j in range(wMotif//2, w-wMotif//2):\n",
    "            i_start = i - hMotif//2\n",
    "            i_end = i + hMotif//2 + 1\n",
    "            j_start = j - wMotif//2\n",
    "            j_end = j + wMotif//2 + 1\n",
    "            res[i][j] = np.sum(img[i_start:i_end, j_start:j_end] * motif)\n",
    "    return res\n",
    "\n"
   ]
  },
  {
   "cell_type": "code",
   "execution_count": 30,
   "metadata": {},
   "outputs": [
    {
     "name": "stdout",
     "output_type": "stream",
     "text": [
      "[[    0.     0.     0.     0.     0.]\n",
      " [    0. 10682. 13424. 15964.     0.]\n",
      " [    0. 12299. 15114. 10227.     0.]\n",
      " [    0.     0.     0.     0.     0.]]\n"
     ]
    },
    {
     "data": {
      "text/plain": [
       "<matplotlib.image.AxesImage at 0x7fb103a4f520>"
      ]
     },
     "execution_count": 30,
     "metadata": {},
     "output_type": "execute_result"
    },
    {
     "data": {
      "image/png": "[encoded data removed]",
      "text/plain": [
       "<Figure size 600x480 with 1 Axes>"
      ]
     },
     "metadata": {},
     "output_type": "display_data"
    }
   ],
   "source": [
    "#Test crossCorrelationWithoutNorm\n",
    "imgSlide = np.array([[4,5,6,7,8],[4,5,8,9,10],[40,50,80,90,100],[43,48,88,92,5]])\n",
    "motifSlide = np.array([[4,5,6],[4,5,8],[40,50,80]])\n",
    "\n",
    "test = crossCorrelationWithoutNorm(imgSlide,motifSlide)\n",
    "print(test)\n",
    "plt.matshow(test)"
   ]
  },
  {
   "cell_type": "markdown",
   "metadata": {},
   "source": [
    "**Question 2:** Ecrire le code de la fonction *correlation* qui prend en entrée 2 tableaux 2d de valeurs: une image (en niveau de gris) et un motif et retourne l'image de correlation avec les normalisations vues en cours. Il pourra s'agir d'une implémentation naïve."
   ]
  },
  {
   "cell_type": "code",
   "execution_count": 40,
   "metadata": {},
   "outputs": [],
   "source": [
    "def crossCorrelation(img, motif):\n",
    "    (h,w) = img.shape[:2]\n",
    "    (hMotif,wMotif) = motif.shape[:2]\n",
    "    res = np.zeros(img.shape)\n",
    "    motif = motif-np.mean(motif)\n",
    "    stdMotif = math.sqrt(np.mean(motif*motif))\n",
    "    if stdMotif == 0 :\n",
    "        return res\n",
    "    motif /= stdMotif\n",
    "    for i in range(hMotif//2, h-hMotif//2):\n",
    "        for j in range(wMotif//2, w-wMotif//2):\n",
    "            meanCurrent = np.mean(img[i - h//2:i + h//2 + 1, j - w//2:j + w//2 + 1])\n",
    "            stdCurrent = np.std(img[i - h//2:i + h//2 + 1, j - w//2:j + w//2 + 1])\n",
    "            if stdCurrent == 0:\n",
    "                res[i][j] = 0\n",
    "            else:\n",
    "                i_start = i - hMotif//2\n",
    "                i_end = i + hMotif//2 + 1\n",
    "                j_start = j - wMotif//2\n",
    "                j_end = j + wMotif//2 + 1\n",
    "                res[i][j] = np.sum((img[i_start:i_end, j_start:j_end] - meanCurrent) * motif) / stdCurrent\n",
    "    res /= hMotif * wMotif\n",
    "    return res"
   ]
  },
  {
   "cell_type": "code",
   "execution_count": 41,
   "metadata": {},
   "outputs": [
    {
     "name": "stdout",
     "output_type": "stream",
     "text": [
      "[[ 0.          0.          0.          0.          0.        ]\n",
      " [ 0.                 nan  0.89897865  0.92238584  0.        ]\n",
      " [ 0.                 nan  0.5369273  -0.06468167  0.        ]\n",
      " [ 0.          0.          0.          0.          0.        ]]\n"
     ]
    },
    {
     "data": {
      "text/plain": [
       "<matplotlib.image.AxesImage at 0x7fb1039d9390>"
      ]
     },
     "execution_count": 41,
     "metadata": {},
     "output_type": "execute_result"
    },
    {
     "data": {
      "image/png": "[encoded data removed]",
      "text/plain": [
       "<Figure size 600x480 with 1 Axes>"
      ]
     },
     "metadata": {},
     "output_type": "display_data"
    }
   ],
   "source": [
    "#Test crossCorrelation\n",
    "imgSlide = np.array([[4,5,6,7,8],[4,5,8,9,10],[40,50,80,90,100],[43,48,88,92,5]])\n",
    "motifSlide = np.array([[4,5,6],[4,5,8],[40,50,80]])\n",
    "\n",
    "test = crossCorrelation(imgSlide,motifSlide)\n",
    "print(test)\n",
    "plt.matshow(test)"
   ]
  },
  {
   "cell_type": "markdown",
   "metadata": {},
   "source": [
    "**Question 3:** Tester la fonction précédente. Affichez les résultats. Améliorer éventuellement l'implémentation pour accélerer les calculs. Il sera possible et peut-être nécessaire de revenir à cette question plus tard (question 5)."
   ]
  },
  {
   "cell_type": "code",
   "execution_count": null,
   "metadata": {},
   "outputs": [],
   "source": [
    "def crossCorrelation2(im, mo):\n",
    "\n",
    "    return res\n"
   ]
  },
  {
   "cell_type": "code",
   "execution_count": null,
   "metadata": {},
   "outputs": [],
   "source": [
    "# pour tester"
   ]
  },
  {
   "cell_type": "markdown",
   "metadata": {},
   "source": [
    "## logo dans image"
   ]
  },
  {
   "cell_type": "markdown",
   "metadata": {},
   "source": [
    "**Question 4:** Choisissez une image qui comporte plusieurs instances d'un motif et conservez l'image et une copie du motif. Modifiez la cellule suivante en conséquence. Soit les images sont en niveaux de gris, soit il faudra les convertir."
   ]
  },
  {
   "cell_type": "code",
   "execution_count": null,
   "metadata": {},
   "outputs": [],
   "source": [
    "img = io.imread('/home/lingrand/Ens/donneesNum/Cours10-corr/text.png')\n",
    "logo = io.imread('/home/lingrand/Ens/donneesNum/Cours10-corr/letter-a.png')\n",
    "#img = io.imread('/home/lingrand/Ens/donneesNum/Cours10-corr/plaqadmissions.jpg')\n",
    "#logo = io.imread('/home/lingrand/Ens/donneesNum/Cours10-corr/plaqadmissions-logo.png')"
   ]
  },
  {
   "cell_type": "code",
   "execution_count": null,
   "metadata": {},
   "outputs": [],
   "source": [
    "# conversion en niveaux de gris\n",
    "img = rgb2gray(img[:,:,0:3])\n",
    "logo = rgb2gray(logo[:,:,0:3])"
   ]
  },
  {
   "cell_type": "code",
   "execution_count": null,
   "metadata": {},
   "outputs": [],
   "source": [
    "plt.imshow(img, cmap=plt.cm.gray)"
   ]
  },
  {
   "cell_type": "code",
   "execution_count": null,
   "metadata": {},
   "outputs": [],
   "source": [
    "plt.imshow(logo, cmap=plt.cm.gray)"
   ]
  },
  {
   "cell_type": "markdown",
   "metadata": {},
   "source": [
    "**Question 5:** Calculez la carte de corrélation et affichez la selon une carte de couleurs chaudes. Si les calculs sont trop longs, revenir à la question 3."
   ]
  },
  {
   "cell_type": "code",
   "execution_count": null,
   "metadata": {},
   "outputs": [],
   "source": [
    "# pour vous"
   ]
  },
  {
   "cell_type": "markdown",
   "metadata": {},
   "source": [
    "**Question 6:** Quel est le max? Où est-il situé?"
   ]
  },
  {
   "cell_type": "code",
   "execution_count": null,
   "metadata": {},
   "outputs": [],
   "source": [
    "# pour vous"
   ]
  },
  {
   "cell_type": "markdown",
   "metadata": {},
   "source": [
    "**Question 7:** Où sont les valeurs de forte corrélation? Il faut déterminer un seuil: 0.5? 0.8? 0.9? Ensuite, différentes possibilités de visualisation sont possibles:\n",
    "- afficher la carte de corrélation seuillée en transparence sur l'image originale ou bien \n",
    "- entourer les zones concernées sur la carte de corrélation ou encore \n",
    "- sur l'image originale."
   ]
  },
  {
   "cell_type": "code",
   "execution_count": null,
   "metadata": {},
   "outputs": [],
   "source": [
    "#pour vous"
   ]
  }
 ],
 "metadata": {
  "hide_input": false,
  "kernelspec": {
   "display_name": "Python 3 (ipykernel)",
   "language": "python",
   "name": "python3"
  },
  "language_info": {
   "codemirror_mode": {
    "name": "ipython",
    "version": 3
   },
   "file_extension": ".py",
   "mimetype": "text/x-python",
   "name": "python",
   "nbconvert_exporter": "python",
   "pygments_lexer": "ipython3",
   "version": "3.10.6"
  },
  "latex_envs": {
   "LaTeX_envs_menu_present": true,
   "autoclose": false,
   "autocomplete": true,
   "bibliofile": "biblio.bib",
   "cite_by": "apalike",
   "current_citInitial": 1,
   "eqLabelWithNumbers": true,
   "eqNumInitial": 1,
   "hotkeys": {
    "equation": "Ctrl-E",
    "itemize": "Ctrl-I"
   },
   "labels_anchors": false,
   "latex_user_defs": false,
   "report_style_numbering": false,
   "user_envs_cfg": false
  },
  "varInspector": {
   "cols": {
    "lenName": 16,
    "lenType": 16,
    "lenVar": 40
   },
   "kernels_config": {
    "python": {
     "delete_cmd_postfix": "",
     "delete_cmd_prefix": "del ",
     "library": "var_list.py",
     "varRefreshCmd": "print(var_dic_list())"
    },
    "r": {
     "delete_cmd_postfix": ") ",
     "delete_cmd_prefix": "rm(",
     "library": "var_list.r",
     "varRefreshCmd": "cat(var_dic_list()) "
    }
   },
   "types_to_exclude": [
    "module",
    "function",
    "builtin_function_or_method",
    "instance",
    "_Feature"
   ],
   "window_display": false
  }
 },
 "nbformat": 4,
 "nbformat_minor": 4
}
