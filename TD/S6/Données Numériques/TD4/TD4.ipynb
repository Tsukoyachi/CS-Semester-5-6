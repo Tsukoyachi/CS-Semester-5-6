{
 "cells": [
  {
   "cell_type": "markdown",
   "id": "87e18d3d",
   "metadata": {},
   "source": [
    "# TD4"
   ]
  },
  {
   "cell_type": "markdown",
   "id": "35eaca64",
   "metadata": {},
   "source": [
    "## Classify all sound with kNN algorithm with class \"dog\", \"cat\", \"bird\""
   ]
  },
  {
   "cell_type": "markdown",
   "id": "d95218c0",
   "metadata": {},
   "source": [
    "### Part 1 : Extract MFCC for each sound"
   ]
  },
  {
   "cell_type": "code",
   "execution_count": null,
   "id": "da8d5e24",
   "metadata": {},
   "outputs": [],
   "source": [
    "import os\n",
    "import numpy as np\n",
    "import librosa\n",
    "\n",
    "#set up\n",
    "birdFile = os.listdir(\"./bird\")\n",
    "dogFile = os.listdir(\"./dog\")\n",
    "catFile = os.listdir(\"./cat\")"
   ]
  },
  {
   "cell_type": "code",
   "execution_count": 77,
   "id": "299ee0c3",
   "metadata": {
    "scrolled": false
   },
   "outputs": [
    {
     "name": "stdout",
     "output_type": "stream",
     "text": [
      "Done\n"
     ]
    }
   ],
   "source": [
    "#MFCC preparation\n",
    "minMFCCLength = 999999999\n",
    "\n",
    "birdMFCC = []\n",
    "for i in range (0,200) :\n",
    "    y1, sr1 = librosa.load(\"./bird/\"+birdFile[i])\n",
    "    tmp = librosa.feature.mfcc(y1,sr1,n_mfcc=13)\n",
    "    birdMFCC.append(tmp)\n",
    "    for y in range (0,13) :\n",
    "        if minMFCCLength > len(tmp[y]) :\n",
    "            minMFCCLength = len(tmp[y])\n",
    "\n",
    "catMFCC = []\n",
    "for i in range (0,200) :\n",
    "    y1, sr1 = librosa.load(\"./cat/\"+catFile[i])\n",
    "    tmp = librosa.feature.mfcc(y1,sr1,n_mfcc=13)\n",
    "    catMFCC.append(tmp)\n",
    "    for y in range (0,13) :\n",
    "        if minMFCCLength > len(tmp[y]) :\n",
    "            minMFCCLength = len(tmp[y])\n",
    "\n",
    "dogMFCC = []\n",
    "for i in range (0,200) :\n",
    "    y1, sr1 = librosa.load(\"./dog/\"+dogFile[i])\n",
    "    tmp = librosa.feature.mfcc(y1,sr1,n_mfcc=13)\n",
    "    dogMFCC.append(tmp)\n",
    "    for y in range (0,13) :\n",
    "        if minMFCCLength > len(tmp[y]) :\n",
    "            minMFCCLength = len(tmp[y])\n",
    "\n",
    "print(\"Done\")"
   ]
  },
  {
   "cell_type": "code",
   "execution_count": 91,
   "id": "cf752a85",
   "metadata": {},
   "outputs": [],
   "source": [
    "#Slicing MFCC\n",
    "birdMFCCList = np.zeros((200,13,minMFCCLength))\n",
    "\n",
    "for i in range(0,200) :\n",
    "    for y in range (0,13) :\n",
    "        birdMFCCList[i][y] = birdMFCC[i][y][0:minMFCCLength]\n",
    "        \n",
    "dogMFCCList = np.zeros((200,13,minMFCCLength))\n",
    "\n",
    "for i in range(0,200) :\n",
    "    for y in range (0,13) :\n",
    "        dogMFCCList[i][y] = dogMFCC[i][y][0:minMFCCLength]\n",
    "\n",
    "catMFCCList = np.zeros((200,13,minMFCCLength))\n",
    "\n",
    "for i in range(0,200) :\n",
    "    for y in range (0,13) :\n",
    "        catMFCCList[i][y] = catMFCC[i][y][0:minMFCCLength]"
   ]
  },
  {
   "cell_type": "code",
   "execution_count": null,
   "id": "85cd38a8",
   "metadata": {},
   "outputs": [],
   "source": []
  }
 ],
 "metadata": {
  "kernelspec": {
   "display_name": "Python 3 (ipykernel)",
   "language": "python",
   "name": "python3"
  },
  "language_info": {
   "codemirror_mode": {
    "name": "ipython",
    "version": 3
   },
   "file_extension": ".py",
   "mimetype": "text/x-python",
   "name": "python",
   "nbconvert_exporter": "python",
   "pygments_lexer": "ipython3",
   "version": "3.10.6"
  }
 },
 "nbformat": 4,
 "nbformat_minor": 5
}
